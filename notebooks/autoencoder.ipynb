{
 "cells": [
  {
   "cell_type": "markdown",
   "source": [
    "# Autoencoder\n",
    "This model using one of autoencoder abilities that allow to compare input and output. Based on that, autoencoder could determine if sample is normal or anomalous."
   ],
   "metadata": {
    "collapsed": false
   }
  },
  {
   "cell_type": "markdown",
   "source": [
    "## Imports"
   ],
   "metadata": {
    "collapsed": false
   }
  },
  {
   "cell_type": "code",
   "execution_count": null,
   "metadata": {
    "collapsed": true,
    "ExecuteTime": {
     "start_time": "2023-08-25T22:05:58.756878Z",
     "end_time": "2023-08-25T22:06:05.120413Z"
    }
   },
   "outputs": [],
   "source": [
    "import matplotlib.pyplot as plt\n",
    "import numpy as np\n",
    "import pandas as pd\n",
    "import tensorflow as tf\n",
    "\n",
    "from sklearn.model_selection import train_test_split"
   ]
  },
  {
   "cell_type": "markdown",
   "source": [
    "## Data preparation"
   ],
   "metadata": {
    "collapsed": false
   }
  },
  {
   "cell_type": "code",
   "execution_count": null,
   "outputs": [],
   "source": [
    "dataframe = pd.read_csv('../dataset/signal_25k.csv', header=None)\n",
    "raw_data = dataframe.values\n",
    "\n",
    "labels = raw_data[:, -1]\n",
    "data = raw_data[:, 0:-1]\n",
    "\n",
    "train_data, test_data, train_labels, test_labels = train_test_split(data, labels, test_size=0.2, random_state=50)\n",
    "\n",
    "min_val =  tf.reduce_min(raw_data)\n",
    "max_val = tf.reduce_max(raw_data)\n",
    "\n",
    "train_data = (train_data - min_val)/ (max_val - min_val)\n",
    "\n",
    "train_data = tf.cast(train_data, tf.float32)\n",
    "test_data = tf.cast(test_data, tf.float32)\n",
    "\n",
    "train_labels = train_labels.astype(bool)\n",
    "test_labels = test_labels.astype(bool)\n",
    "\n",
    "normal_train_data = train_data[train_labels]\n",
    "normal_test_data = test_data[test_labels]\n",
    "\n",
    "anomalous_train_data = train_data[~train_labels]\n",
    "anomalous_test_data = test_data[~test_labels]"
   ],
   "metadata": {
    "collapsed": false,
    "ExecuteTime": {
     "start_time": "2023-08-26T02:00:26.834090Z",
     "end_time": "2023-08-26T02:00:29.500034Z"
    }
   }
  },
  {
   "cell_type": "markdown",
   "source": [
    "## Set models parameters"
   ],
   "metadata": {
    "collapsed": false
   }
  },
  {
   "cell_type": "code",
   "execution_count": null,
   "outputs": [],
   "source": [
    "latent_dim = 64\n",
    "input_dim = 100"
   ],
   "metadata": {
    "collapsed": false,
    "ExecuteTime": {
     "start_time": "2023-08-26T02:00:29.515661Z",
     "end_time": "2023-08-26T02:00:29.515661Z"
    }
   }
  },
  {
   "cell_type": "markdown",
   "source": [
    "## Define encoder model"
   ],
   "metadata": {
    "collapsed": false
   }
  },
  {
   "cell_type": "code",
   "execution_count": null,
   "outputs": [],
   "source": [
    "def build_encoder():\n",
    "    model = tf.keras.models.Sequential()\n",
    "    model.add(tf.keras.layers.Dense(latent_dim, activation='relu'))\n",
    "    model.add(tf.keras.layers.Dense(32, activation='relu'))\n",
    "    model.add(tf.keras.layers.Dense(16, activation='relu'))\n",
    "    model.add(tf.keras.layers.Dense(input_dim, activation='relu'))\n",
    "    return model"
   ],
   "metadata": {
    "collapsed": false,
    "ExecuteTime": {
     "start_time": "2023-08-26T02:00:29.813392Z",
     "end_time": "2023-08-26T02:00:29.813392Z"
    }
   }
  },
  {
   "cell_type": "markdown",
   "source": [
    "## Define decoder model"
   ],
   "metadata": {
    "collapsed": false
   }
  },
  {
   "cell_type": "code",
   "execution_count": null,
   "outputs": [],
   "source": [
    "def build_decoder():\n",
    "    model = tf.keras.models.Sequential()\n",
    "    model.add(tf.keras.layers.Dense(16, activation='relu'))\n",
    "    model.add(tf.keras.layers.Dense(32, activation='relu'))\n",
    "    model.add(tf.keras.layers.Dense(64, activation='relu'))\n",
    "    model.add(tf.keras.layers.Dense(input_dim, activation='sigmoid'))\n",
    "    return model"
   ],
   "metadata": {
    "collapsed": false,
    "ExecuteTime": {
     "start_time": "2023-08-26T02:00:30.728176Z",
     "end_time": "2023-08-26T02:00:30.768622Z"
    }
   }
  },
  {
   "cell_type": "markdown",
   "source": [
    "## Define autoencoder"
   ],
   "metadata": {
    "collapsed": false
   }
  },
  {
   "cell_type": "code",
   "execution_count": null,
   "outputs": [],
   "source": [
    "def build_autoencoder():\n",
    "    encoder = build_encoder()\n",
    "    decoder = build_decoder()\n",
    "\n",
    "    encoder.compile(optimizer=tf.keras.optimizers.Adam(learning_rate=0.002, beta_1=0.5), loss=tf.keras.losses.mse)\n",
    "    decoder.compile(optimizer=tf.keras.optimizers.Adam(learning_rate=0.002, beta_1=0.5), loss=tf.keras.losses.mse)\n",
    "\n",
    "    encoder_input = tf.keras.layers.Input(shape=(input_dim,))\n",
    "    autoencoder_input = encoder(encoder_input)\n",
    "    autoencoder_output = decoder(autoencoder_input)\n",
    "    autoencoder = tf.keras.Model(inputs=autoencoder_input, outputs=autoencoder_output)\n",
    "    autoencoder.compile(optimizer=tf.keras.optimizers.Adam(learning_rate=0.002, beta_1=0.5), loss=tf.keras.losses.mse)\n",
    "\n",
    "    return autoencoder"
   ],
   "metadata": {
    "collapsed": false,
    "ExecuteTime": {
     "start_time": "2023-08-26T02:00:31.699165Z",
     "end_time": "2023-08-26T02:00:31.730411Z"
    }
   }
  },
  {
   "cell_type": "code",
   "execution_count": null,
   "outputs": [],
   "source": [
    "autoencoder = build_autoencoder()"
   ],
   "metadata": {
    "collapsed": false,
    "ExecuteTime": {
     "start_time": "2023-08-26T02:00:32.948441Z",
     "end_time": "2023-08-26T02:00:33.317061Z"
    }
   }
  },
  {
   "cell_type": "markdown",
   "source": [
    "## Model fitting"
   ],
   "metadata": {
    "collapsed": false
   }
  },
  {
   "cell_type": "code",
   "execution_count": null,
   "outputs": [],
   "source": [
    "autoencoder.fit(normal_train_data, normal_train_data, epochs=100, batch_size=128, validation_data=(test_data, test_data), validation_batch_size=128)"
   ],
   "metadata": {
    "collapsed": false,
    "ExecuteTime": {
     "start_time": "2023-08-26T02:00:35.761816Z",
     "end_time": "2023-08-26T02:01:10.455383Z"
    }
   }
  },
  {
   "cell_type": "markdown",
   "source": [
    "## Save model"
   ],
   "metadata": {
    "collapsed": false
   }
  },
  {
   "cell_type": "code",
   "execution_count": null,
   "outputs": [],
   "source": [
    "dataframe = pd.read_csv('../dataset/signal_10k_val.csv', header=None)\n",
    "random_dataframe = dataframe\n",
    "raw_data = random_dataframe.values\n",
    "\n",
    "labels = raw_data[:, -1]\n",
    "data = raw_data[:, 0:-1]\n",
    "\n",
    "data = (data - np.min(data))/(np.max(data) - np.min(data))\n",
    "result = autoencoder.predict(data)\n",
    "\n",
    "\n",
    "def mean_squared_error(y, y_pred):\n",
    "    # Calculate the squared errors\n",
    "    squared_errors = (y - y_pred) ** 2\n",
    "\n",
    "    # Mean of the sum of squared errors\n",
    "    mse = np.mean(squared_errors)\n",
    "\n",
    "    return mse\n",
    "\n",
    "\n",
    "mse = []\n",
    "\n",
    "for i in range(len(result)):\n",
    "    mse.append(mean_squared_error(data[i], result[i]))\n",
    "correctly_recognized_samples_normal = 0\n",
    "correctly_recognized_samples_anomalous = 0\n",
    "temp = []\n",
    "corr_max = [0, float('inf')]\n",
    "for i in np.arange(0.001, 0.2, 0.00025):\n",
    "    for j in range(0, len(mse)):\n",
    "        if mse[j] > i and labels[j] == 0:\n",
    "            correctly_recognized_samples_anomalous += 1\n",
    "        if mse[j] < i and labels[j] == 1:\n",
    "            correctly_recognized_samples_normal += 1\n",
    "    if abs(correctly_recognized_samples_normal / 5000 - correctly_recognized_samples_anomalous / 5000) < corr_max[1]:\n",
    "        corr_max = [i,\n",
    "                    (correctly_recognized_samples_normal / 5000 + correctly_recognized_samples_anomalous / 5000) / 2]\n",
    "        temp = [correctly_recognized_samples_normal, correctly_recognized_samples_anomalous]\n",
    "    correctly_recognized_samples_normal = 0\n",
    "    correctly_recognized_samples_anomalous = 0\n",
    "print(corr_max)"
   ],
   "metadata": {
    "collapsed": false,
    "ExecuteTime": {
     "start_time": "2023-08-26T02:01:31.843617Z",
     "end_time": "2023-08-26T02:01:36.915427Z"
    }
   }
  },
  {
   "cell_type": "markdown",
   "source": [],
   "metadata": {
    "collapsed": false
   }
  },
  {
   "cell_type": "code",
   "execution_count": null,
   "outputs": [],
   "source": [
    "x = autoencoder.predict(data[100:101])"
   ],
   "metadata": {
    "collapsed": false,
    "ExecuteTime": {
     "start_time": "2023-08-25T19:30:13.572777Z",
     "end_time": "2023-08-25T19:30:13.772818Z"
    }
   }
  },
  {
   "cell_type": "code",
   "execution_count": null,
   "outputs": [],
   "source": [
    "import matplotlib.pyplot as plt\n",
    "plt.plot(x)"
   ],
   "metadata": {
    "collapsed": false,
    "ExecuteTime": {
     "start_time": "2023-08-25T19:31:11.142175Z",
     "end_time": "2023-08-25T19:31:12.044350Z"
    }
   }
  },
  {
   "cell_type": "code",
   "execution_count": null,
   "outputs": [],
   "source": [
    "plt.plot(data[100:101])"
   ],
   "metadata": {
    "collapsed": false,
    "ExecuteTime": {
     "start_time": "2023-08-25T19:31:49.427119Z",
     "end_time": "2023-08-25T19:31:49.786501Z"
    }
   }
  },
  {
   "cell_type": "code",
   "execution_count": null,
   "outputs": [],
   "source": [
    "import matplotlib.pyplot as plt\n",
    "\n",
    "# Define the x-axis values\n",
    "x = [10000, 25000, 50000, 100000]\n",
    "\n",
    "# Define the y-values for the two functions\n",
    "y1 = [0.89, 0.89, 0.88, 0.87]\n",
    "y2 = [0.56, 0.54, 0.56, 0.51]\n",
    "\n",
    "# Create the plot\n",
    "plt.figure(figsize=(10,6))\n",
    "\n",
    "# Plot the two functions\n",
    "plt.plot(x, y1, 'o-', label='Walidacja na zbiorze statycznym')\n",
    "plt.plot(x, y2, 's-', label='Walidacja na strumieniu testowym')\n",
    "\n",
    "# Annotate the y-values on the plot for each point\n",
    "for xi, y1i, y2i in zip(x, y1, y2):\n",
    "    plt.annotate(f\"{y1i}\", (xi, y1i), textcoords=\"offset points\", xytext=(0,5), ha='center')\n",
    "    plt.annotate(f\"{y2i}\", (xi, y2i), textcoords=\"offset points\", xytext=(0,-15), ha='center')\n",
    "\n",
    "    # Annotate x-values for each point\n",
    "    offset = -30 if y1i < y2i else 15  # Adjust offset based on the lower y value\n",
    "    plt.annotate(f\"{xi}\", (xi, 0), textcoords=\"offset points\", xytext=(0,offset), ha='center', fontsize=9, color='gray')\n",
    "\n",
    "# Set y-limits and x-limits\n",
    "plt.ylim(0, 1.2)\n",
    "plt.xlim(5000, 110000)\n",
    "\n",
    "# Label the axes\n",
    "plt.xlabel(\"Liczba próbek terningowych\")\n",
    "plt.ylabel(\"Dokładność modelu\")\n",
    "\n",
    "# Display the legend in the bottom left with an increased margin from the bottom\n",
    "plt.legend(loc='lower left', bbox_to_anchor=(0, 0.1))\n",
    "\n",
    "# Display the plot\n",
    "plt.grid(True)\n",
    "plt.tight_layout()\n",
    "plt.show()"
   ],
   "metadata": {
    "collapsed": false,
    "ExecuteTime": {
     "start_time": "2023-08-27T20:07:41.423335Z",
     "end_time": "2023-08-27T20:07:42.925725Z"
    }
   }
  },
  {
   "cell_type": "code",
   "execution_count": null,
   "outputs": [],
   "source": [
    "autoencoder.save('../models/detectors/autoencoder_signal')"
   ],
   "metadata": {
    "collapsed": false,
    "ExecuteTime": {
     "start_time": "2023-08-26T01:58:05.218020Z",
     "end_time": "2023-08-26T01:58:06.815708Z"
    }
   }
  },
  {
   "cell_type": "markdown",
   "source": [
    "## Model testing"
   ],
   "metadata": {
    "collapsed": false
   }
  }
 ],
 "metadata": {
  "kernelspec": {
   "display_name": "Python 3",
   "language": "python",
   "name": "python3"
  },
  "language_info": {
   "codemirror_mode": {
    "name": "ipython",
    "version": 2
   },
   "file_extension": ".py",
   "mimetype": "text/x-python",
   "name": "python",
   "nbconvert_exporter": "python",
   "pygments_lexer": "ipython2",
   "version": "2.7.6"
  }
 },
 "nbformat": 4,
 "nbformat_minor": 0
}
