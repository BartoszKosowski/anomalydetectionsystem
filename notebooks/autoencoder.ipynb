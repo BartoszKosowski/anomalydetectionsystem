{
 "cells": [
  {
   "cell_type": "markdown",
   "source": [
    "# Autoencoder\n",
    "This model using one of autoencoder abilities that allow to compare input and output. Based on that, autoencoder could determine if sample is normal or anomalous."
   ],
   "metadata": {
    "collapsed": false
   }
  },
  {
   "cell_type": "markdown",
   "source": [
    "## Imports"
   ],
   "metadata": {
    "collapsed": false
   }
  },
  {
   "cell_type": "code",
   "execution_count": 1,
   "metadata": {
    "collapsed": true,
    "ExecuteTime": {
     "start_time": "2023-07-14T18:59:55.015531Z",
     "end_time": "2023-07-14T19:00:06.315495Z"
    }
   },
   "outputs": [],
   "source": [
    "import matplotlib.pyplot as plt\n",
    "import numpy as np\n",
    "import pandas as pd\n",
    "import tensorflow as tf\n",
    "\n",
    "from sklearn.model_selection import train_test_split"
   ]
  },
  {
   "cell_type": "markdown",
   "source": [
    "## Data preparation"
   ],
   "metadata": {
    "collapsed": false
   }
  },
  {
   "cell_type": "code",
   "execution_count": 2,
   "outputs": [],
   "source": [
    "dataframe = pd.read_csv('../dataset/ecg.csv', header=None)\n",
    "raw_data = dataframe.values\n",
    "\n",
    "labels = raw_data[:, -1]\n",
    "data = raw_data[:, 0:-1]\n",
    "\n",
    "train_data, test_data, train_labels, test_labels = train_test_split(data, labels, test_size=0.2, random_state=50)\n",
    "\n",
    "\n",
    "train_data = tf.cast(train_data, tf.float32)\n",
    "test_data = tf.cast(test_data, tf.float32)\n",
    "\n",
    "train_labels = train_labels.astype(bool)\n",
    "test_labels = test_labels.astype(bool)\n",
    "\n",
    "normal_train_data = train_data[train_labels]\n",
    "normal_test_data = test_data[test_labels]\n",
    "\n",
    "anomalous_train_data = train_data[~train_labels]\n",
    "anomalous_test_data = test_data[~test_labels]"
   ],
   "metadata": {
    "collapsed": false,
    "ExecuteTime": {
     "start_time": "2023-07-14T19:00:17.774254Z",
     "end_time": "2023-07-14T19:00:19.206430Z"
    }
   }
  },
  {
   "cell_type": "markdown",
   "source": [
    "## Set models parameters"
   ],
   "metadata": {
    "collapsed": false
   }
  },
  {
   "cell_type": "code",
   "execution_count": 3,
   "outputs": [],
   "source": [
    "latent_dim = 64\n",
    "input_dim = 140"
   ],
   "metadata": {
    "collapsed": false,
    "ExecuteTime": {
     "start_time": "2023-07-14T19:05:00.078483Z",
     "end_time": "2023-07-14T19:05:00.131725Z"
    }
   }
  },
  {
   "cell_type": "markdown",
   "source": [
    "## Define encoder model"
   ],
   "metadata": {
    "collapsed": false
   }
  },
  {
   "cell_type": "code",
   "execution_count": 4,
   "outputs": [],
   "source": [
    "def build_encoder():\n",
    "    model = tf.keras.models.Sequential()\n",
    "    model.add(tf.keras.layers.Dense(latent_dim, activation='relu'))\n",
    "    model.add(tf.keras.layers.Dense(32, activation='relu'))\n",
    "    model.add(tf.keras.layers.Dense(input_dim, activation='relu'))\n",
    "    return model"
   ],
   "metadata": {
    "collapsed": false,
    "ExecuteTime": {
     "start_time": "2023-07-14T19:05:03.109435Z",
     "end_time": "2023-07-14T19:05:03.191862Z"
    }
   }
  },
  {
   "cell_type": "markdown",
   "source": [
    "## Define decoder model"
   ],
   "metadata": {
    "collapsed": false
   }
  },
  {
   "cell_type": "code",
   "execution_count": 5,
   "outputs": [],
   "source": [
    "def build_decoder():\n",
    "    model = tf.keras.models.Sequential()\n",
    "    model.add(tf.keras.layers.Dense(16, activation='relu'))\n",
    "    model.add(tf.keras.layers.Dense(32, activation='relu'))\n",
    "    model.add(tf.keras.layers.Dense(input_dim, activation='sigmoid'))\n",
    "    return model"
   ],
   "metadata": {
    "collapsed": false,
    "ExecuteTime": {
     "start_time": "2023-07-14T19:05:05.274016Z",
     "end_time": "2023-07-14T19:05:05.294915Z"
    }
   }
  },
  {
   "cell_type": "markdown",
   "source": [
    "## Define autoencoder"
   ],
   "metadata": {
    "collapsed": false
   }
  },
  {
   "cell_type": "code",
   "execution_count": 6,
   "outputs": [],
   "source": [
    "def build_autoencoder():\n",
    "    encoder = build_encoder()\n",
    "    decoder = build_decoder()\n",
    "\n",
    "    encoder.compile(optimizer=tf.keras.optimizers.Adam(learning_rate=0.002, beta_1=0.5), loss=tf.keras.losses.binary_crossentropy)\n",
    "    decoder.compile(optimizer=tf.keras.optimizers.Adam(learning_rate=0.002, beta_1=0.5), loss=tf.keras.losses.binary_crossentropy)\n",
    "\n",
    "    encoder_input = tf.keras.layers.Input(shape=(input_dim,))\n",
    "    autoencoder_input = encoder(encoder_input)\n",
    "    autoencoder_output = decoder(autoencoder_input)\n",
    "    autoencoder = tf.keras.Model(inputs=autoencoder_input, outputs=autoencoder_output)\n",
    "    autoencoder.compile(optimizer=tf.keras.optimizers.Adam(learning_rate=0.002, beta_1=0.5), loss=tf.keras.losses.binary_crossentropy)\n",
    "\n",
    "    return autoencoder"
   ],
   "metadata": {
    "collapsed": false,
    "ExecuteTime": {
     "start_time": "2023-07-14T19:05:07.020243Z",
     "end_time": "2023-07-14T19:05:07.090437Z"
    }
   }
  },
  {
   "cell_type": "code",
   "execution_count": 7,
   "outputs": [],
   "source": [
    "autoencoder = build_autoencoder()"
   ],
   "metadata": {
    "collapsed": false,
    "ExecuteTime": {
     "start_time": "2023-07-14T19:05:08.972155Z",
     "end_time": "2023-07-14T19:05:09.670155Z"
    }
   }
  },
  {
   "cell_type": "markdown",
   "source": [
    "## Model fitting"
   ],
   "metadata": {
    "collapsed": false
   }
  },
  {
   "cell_type": "code",
   "execution_count": 9,
   "outputs": [
    {
     "name": "stdout",
     "output_type": "stream",
     "text": [
      "Epoch 1/25\n",
      "38/38 [==============================] - 0s 10ms/step - loss: 0.6829 - val_loss: 0.6836\n",
      "Epoch 2/25\n",
      "38/38 [==============================] - 0s 7ms/step - loss: 0.6829 - val_loss: 0.6836\n",
      "Epoch 3/25\n",
      "38/38 [==============================] - 1s 13ms/step - loss: 0.6829 - val_loss: 0.6835\n",
      "Epoch 4/25\n",
      "38/38 [==============================] - 0s 8ms/step - loss: 0.6829 - val_loss: 0.6835\n",
      "Epoch 5/25\n",
      "38/38 [==============================] - 1s 15ms/step - loss: 0.6829 - val_loss: 0.6836\n",
      "Epoch 6/25\n",
      "38/38 [==============================] - 0s 11ms/step - loss: 0.6829 - val_loss: 0.6836\n",
      "Epoch 7/25\n",
      "38/38 [==============================] - 0s 6ms/step - loss: 0.6829 - val_loss: 0.6835\n",
      "Epoch 8/25\n",
      "38/38 [==============================] - 0s 9ms/step - loss: 0.6829 - val_loss: 0.6835\n",
      "Epoch 9/25\n",
      "38/38 [==============================] - 0s 13ms/step - loss: 0.6829 - val_loss: 0.6836\n",
      "Epoch 10/25\n",
      "38/38 [==============================] - 0s 7ms/step - loss: 0.6829 - val_loss: 0.6835\n",
      "Epoch 11/25\n",
      "38/38 [==============================] - 1s 18ms/step - loss: 0.6829 - val_loss: 0.6835\n",
      "Epoch 12/25\n",
      "38/38 [==============================] - 1s 18ms/step - loss: 0.6829 - val_loss: 0.6835\n",
      "Epoch 13/25\n",
      "38/38 [==============================] - 1s 16ms/step - loss: 0.6829 - val_loss: 0.6835\n",
      "Epoch 14/25\n",
      "38/38 [==============================] - 0s 12ms/step - loss: 0.6829 - val_loss: 0.6835\n",
      "Epoch 15/25\n",
      "38/38 [==============================] - 0s 12ms/step - loss: 0.6829 - val_loss: 0.6835\n",
      "Epoch 16/25\n",
      "38/38 [==============================] - 0s 8ms/step - loss: 0.6829 - val_loss: 0.6835\n",
      "Epoch 17/25\n",
      "38/38 [==============================] - 1s 17ms/step - loss: 0.6829 - val_loss: 0.6835\n",
      "Epoch 18/25\n",
      "38/38 [==============================] - 1s 19ms/step - loss: 0.6829 - val_loss: 0.6834\n",
      "Epoch 19/25\n",
      "38/38 [==============================] - 0s 9ms/step - loss: 0.6829 - val_loss: 0.6834\n",
      "Epoch 20/25\n",
      "38/38 [==============================] - 0s 6ms/step - loss: 0.6829 - val_loss: 0.6834\n",
      "Epoch 21/25\n",
      "38/38 [==============================] - 0s 11ms/step - loss: 0.6829 - val_loss: 0.6835\n",
      "Epoch 22/25\n",
      "38/38 [==============================] - 1s 18ms/step - loss: 0.6829 - val_loss: 0.6834\n",
      "Epoch 23/25\n",
      "38/38 [==============================] - 1s 17ms/step - loss: 0.6829 - val_loss: 0.6834\n",
      "Epoch 24/25\n",
      "38/38 [==============================] - 1s 16ms/step - loss: 0.6829 - val_loss: 0.6833\n",
      "Epoch 25/25\n",
      "38/38 [==============================] - 0s 9ms/step - loss: 0.6829 - val_loss: 0.6835\n"
     ]
    },
    {
     "data": {
      "text/plain": "<keras.src.callbacks.History at 0x2bcf125b460>"
     },
     "execution_count": 9,
     "metadata": {},
     "output_type": "execute_result"
    }
   ],
   "source": [
    "autoencoder.fit(normal_train_data, normal_train_data, epochs=25, batch_size=256, validation_data=(test_data, test_data), validation_batch_size=128)"
   ],
   "metadata": {
    "collapsed": false,
    "ExecuteTime": {
     "start_time": "2023-07-14T19:06:03.031605Z",
     "end_time": "2023-07-14T19:06:15.132979Z"
    }
   }
  },
  {
   "cell_type": "markdown",
   "source": [
    "## Save model"
   ],
   "metadata": {
    "collapsed": false
   }
  },
  {
   "cell_type": "code",
   "execution_count": 13,
   "outputs": [
    {
     "name": "stdout",
     "output_type": "stream",
     "text": [
      "INFO:tensorflow:Assets written to: models/detectors/autoencoder\\assets\n"
     ]
    },
    {
     "name": "stderr",
     "output_type": "stream",
     "text": [
      "INFO:tensorflow:Assets written to: models/detectors/autoencoder\\assets\n"
     ]
    }
   ],
   "source": [
    "autoencoder.save('../models/detectors/autoencoder')"
   ],
   "metadata": {
    "collapsed": false,
    "ExecuteTime": {
     "start_time": "2023-07-14T19:10:54.095543Z",
     "end_time": "2023-07-14T19:10:55.734710Z"
    }
   }
  },
  {
   "cell_type": "markdown",
   "source": [
    "## Model testing"
   ],
   "metadata": {
    "collapsed": false
   }
  },
  {
   "cell_type": "code",
   "execution_count": 14,
   "outputs": [
    {
     "name": "stdout",
     "output_type": "stream",
     "text": [
      "1/1 [==============================] - 0s 33ms/step\n"
     ]
    }
   ],
   "source": [
    "test_sample = autoencoder.predict(normal_train_data[0:1])"
   ],
   "metadata": {
    "collapsed": false,
    "ExecuteTime": {
     "start_time": "2023-07-14T19:10:59.604493Z",
     "end_time": "2023-07-14T19:10:59.724899Z"
    }
   }
  },
  {
   "cell_type": "code",
   "execution_count": 15,
   "outputs": [
    {
     "data": {
      "text/plain": "<Figure size 640x480 with 1 Axes>",
      "image/png": "[encoded data removed]"
     },
     "metadata": {},
     "output_type": "display_data"
    }
   ],
   "source": [
    "plt.plot(normal_test_data[10], 'b')\n",
    "plt.plot(test_sample[0], 'r')\n",
    "plt.fill_between(np.arange(140), normal_test_data[10], test_sample[0], color='lightcoral')\n",
    "plt.legend(labels=[\"Input\", \"Reconstruction\", \"Error\"])\n",
    "plt.show()\n"
   ],
   "metadata": {
    "collapsed": false,
    "ExecuteTime": {
     "start_time": "2023-07-14T19:11:00.804742Z",
     "end_time": "2023-07-14T19:11:01.634729Z"
    }
   }
  }
 ],
 "metadata": {
  "kernelspec": {
   "display_name": "Python 3",
   "language": "python",
   "name": "python3"
  },
  "language_info": {
   "codemirror_mode": {
    "name": "ipython",
    "version": 2
   },
   "file_extension": ".py",
   "mimetype": "text/x-python",
   "name": "python",
   "nbconvert_exporter": "python",
   "pygments_lexer": "ipython2",
   "version": "2.7.6"
  }
 },
 "nbformat": 4,
 "nbformat_minor": 0
}
