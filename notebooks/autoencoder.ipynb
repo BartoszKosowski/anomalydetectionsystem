{
 "cells": [
  {
   "cell_type": "markdown",
   "source": [
    "# Autoencoder\n",
    "This model using one of autoencoder abilities that allow to compare input and output. Based on that, autoencoder could determine if sample is normal or anomalous."
   ],
   "metadata": {
    "collapsed": false
   }
  },
  {
   "cell_type": "markdown",
   "source": [
    "## Imports"
   ],
   "metadata": {
    "collapsed": false
   }
  },
  {
   "cell_type": "code",
   "execution_count": 1,
   "metadata": {
    "collapsed": true,
    "ExecuteTime": {
     "start_time": "2023-08-22T22:15:52.488881Z",
     "end_time": "2023-08-22T22:15:58.796330Z"
    }
   },
   "outputs": [],
   "source": [
    "import matplotlib.pyplot as plt\n",
    "import numpy as np\n",
    "import pandas as pd\n",
    "import tensorflow as tf\n",
    "\n",
    "from sklearn.model_selection import train_test_split"
   ]
  },
  {
   "cell_type": "markdown",
   "source": [
    "## Data preparation"
   ],
   "metadata": {
    "collapsed": false
   }
  },
  {
   "cell_type": "code",
   "execution_count": 2,
   "outputs": [],
   "source": [
    "dataframe = pd.read_csv('../dataset/ecg_prod_10k.csv', header=None)\n",
    "raw_data = dataframe.values\n",
    "\n",
    "labels = raw_data[:, -1]\n",
    "data = raw_data[:, 0:-1]\n",
    "\n",
    "train_data, test_data, train_labels, test_labels = train_test_split(data, labels, test_size=0.2, random_state=50)\n",
    "\n",
    "\n",
    "train_data = tf.cast(train_data, tf.float32)\n",
    "test_data = tf.cast(test_data, tf.float32)\n",
    "\n",
    "train_labels = train_labels.astype(bool)\n",
    "test_labels = test_labels.astype(bool)\n",
    "\n",
    "normal_train_data = train_data[train_labels]\n",
    "normal_test_data = test_data[test_labels]\n",
    "\n",
    "anomalous_train_data = train_data[~train_labels]\n",
    "anomalous_test_data = test_data[~test_labels]"
   ],
   "metadata": {
    "collapsed": false,
    "ExecuteTime": {
     "start_time": "2023-08-22T22:17:08.875897Z",
     "end_time": "2023-08-22T22:17:09.759502Z"
    }
   }
  },
  {
   "cell_type": "markdown",
   "source": [
    "## Set models parameters"
   ],
   "metadata": {
    "collapsed": false
   }
  },
  {
   "cell_type": "code",
   "execution_count": 3,
   "outputs": [],
   "source": [
    "latent_dim = 64\n",
    "input_dim = 140"
   ],
   "metadata": {
    "collapsed": false,
    "ExecuteTime": {
     "start_time": "2023-08-22T22:17:10.902974Z",
     "end_time": "2023-08-22T22:17:10.929972Z"
    }
   }
  },
  {
   "cell_type": "markdown",
   "source": [
    "## Define encoder model"
   ],
   "metadata": {
    "collapsed": false
   }
  },
  {
   "cell_type": "code",
   "execution_count": 4,
   "outputs": [],
   "source": [
    "def build_encoder():\n",
    "    model = tf.keras.models.Sequential()\n",
    "    model.add(tf.keras.layers.Dense(latent_dim, activation='relu'))\n",
    "    model.add(tf.keras.layers.Dense(64, activation='relu'))\n",
    "    model.add(tf.keras.layers.Dense(16, activation='relu'))\n",
    "    model.add(tf.keras.layers.Dense(input_dim, activation='relu'))\n",
    "    return model"
   ],
   "metadata": {
    "collapsed": false,
    "ExecuteTime": {
     "start_time": "2023-08-22T22:17:12.194244Z",
     "end_time": "2023-08-22T22:17:12.235289Z"
    }
   }
  },
  {
   "cell_type": "markdown",
   "source": [
    "## Define decoder model"
   ],
   "metadata": {
    "collapsed": false
   }
  },
  {
   "cell_type": "code",
   "execution_count": 5,
   "outputs": [],
   "source": [
    "def build_decoder():\n",
    "    model = tf.keras.models.Sequential()\n",
    "    model.add(tf.keras.layers.Dense(8, activation='relu'))\n",
    "    model.add(tf.keras.layers.Dense(16, activation='relu'))\n",
    "    model.add(tf.keras.layers.Dense(64, activation='relu'))\n",
    "    model.add(tf.keras.layers.Dense(input_dim, activation='sigmoid'))\n",
    "    return model"
   ],
   "metadata": {
    "collapsed": false,
    "ExecuteTime": {
     "start_time": "2023-08-22T22:17:14.122820Z",
     "end_time": "2023-08-22T22:17:14.179818Z"
    }
   }
  },
  {
   "cell_type": "markdown",
   "source": [
    "## Define autoencoder"
   ],
   "metadata": {
    "collapsed": false
   }
  },
  {
   "cell_type": "code",
   "execution_count": 6,
   "outputs": [],
   "source": [
    "def build_autoencoder():\n",
    "    encoder = build_encoder()\n",
    "    decoder = build_decoder()\n",
    "\n",
    "    encoder.compile(optimizer=tf.keras.optimizers.Adam(learning_rate=0.002, beta_1=0.5), loss=tf.keras.losses.binary_crossentropy)\n",
    "    decoder.compile(optimizer=tf.keras.optimizers.Adam(learning_rate=0.002, beta_1=0.5), loss=tf.keras.losses.binary_crossentropy)\n",
    "\n",
    "    encoder_input = tf.keras.layers.Input(shape=(input_dim,))\n",
    "    autoencoder_input = encoder(encoder_input)\n",
    "    autoencoder_output = decoder(autoencoder_input)\n",
    "    autoencoder = tf.keras.Model(inputs=autoencoder_input, outputs=autoencoder_output)\n",
    "    autoencoder.compile(optimizer=tf.keras.optimizers.Adam(learning_rate=0.002, beta_1=0.5), loss=tf.keras.losses.binary_crossentropy)\n",
    "\n",
    "    return autoencoder"
   ],
   "metadata": {
    "collapsed": false,
    "ExecuteTime": {
     "start_time": "2023-08-22T22:17:14.851070Z",
     "end_time": "2023-08-22T22:17:14.908070Z"
    }
   }
  },
  {
   "cell_type": "code",
   "execution_count": 7,
   "outputs": [],
   "source": [
    "autoencoder = build_autoencoder()"
   ],
   "metadata": {
    "collapsed": false,
    "ExecuteTime": {
     "start_time": "2023-08-22T22:17:16.472344Z",
     "end_time": "2023-08-22T22:17:16.950342Z"
    }
   }
  },
  {
   "cell_type": "markdown",
   "source": [
    "## Model fitting"
   ],
   "metadata": {
    "collapsed": false
   }
  },
  {
   "cell_type": "code",
   "execution_count": 8,
   "outputs": [
    {
     "name": "stdout",
     "output_type": "stream",
     "text": [
      "Epoch 1/100\n",
      "24/24 [==============================] - 2s 16ms/step - loss: 0.6871 - val_loss: 0.6840\n",
      "Epoch 2/100\n",
      "24/24 [==============================] - 0s 10ms/step - loss: 0.6830 - val_loss: 0.6840\n",
      "Epoch 3/100\n",
      "24/24 [==============================] - 0s 8ms/step - loss: 0.6830 - val_loss: 0.6840\n",
      "Epoch 4/100\n",
      "24/24 [==============================] - 0s 8ms/step - loss: 0.6830 - val_loss: 0.6840\n",
      "Epoch 5/100\n",
      "24/24 [==============================] - 0s 7ms/step - loss: 0.6830 - val_loss: 0.6839\n",
      "Epoch 6/100\n",
      "24/24 [==============================] - 0s 6ms/step - loss: 0.6830 - val_loss: 0.6839\n",
      "Epoch 7/100\n",
      "24/24 [==============================] - 0s 6ms/step - loss: 0.6830 - val_loss: 0.6839\n",
      "Epoch 8/100\n",
      "24/24 [==============================] - 0s 7ms/step - loss: 0.6830 - val_loss: 0.6840\n",
      "Epoch 9/100\n",
      "24/24 [==============================] - 0s 7ms/step - loss: 0.6830 - val_loss: 0.6839\n",
      "Epoch 10/100\n",
      "24/24 [==============================] - 0s 6ms/step - loss: 0.6830 - val_loss: 0.6840\n",
      "Epoch 11/100\n",
      "24/24 [==============================] - 0s 6ms/step - loss: 0.6830 - val_loss: 0.6839\n",
      "Epoch 12/100\n",
      "24/24 [==============================] - 0s 6ms/step - loss: 0.6830 - val_loss: 0.6839\n",
      "Epoch 13/100\n",
      "24/24 [==============================] - 0s 7ms/step - loss: 0.6830 - val_loss: 0.6838\n",
      "Epoch 14/100\n",
      "24/24 [==============================] - 0s 8ms/step - loss: 0.6830 - val_loss: 0.6839\n",
      "Epoch 15/100\n",
      "24/24 [==============================] - 0s 7ms/step - loss: 0.6830 - val_loss: 0.6839\n",
      "Epoch 16/100\n",
      "24/24 [==============================] - 0s 6ms/step - loss: 0.6830 - val_loss: 0.6838\n",
      "Epoch 17/100\n",
      "24/24 [==============================] - 0s 6ms/step - loss: 0.6830 - val_loss: 0.6838\n",
      "Epoch 18/100\n",
      "24/24 [==============================] - 0s 7ms/step - loss: 0.6829 - val_loss: 0.6838\n",
      "Epoch 19/100\n",
      "24/24 [==============================] - 0s 6ms/step - loss: 0.6829 - val_loss: 0.6838\n",
      "Epoch 20/100\n",
      "24/24 [==============================] - 0s 6ms/step - loss: 0.6830 - val_loss: 0.6838\n",
      "Epoch 21/100\n",
      "24/24 [==============================] - 0s 6ms/step - loss: 0.6829 - val_loss: 0.6838\n",
      "Epoch 22/100\n",
      "24/24 [==============================] - 0s 6ms/step - loss: 0.6830 - val_loss: 0.6839\n",
      "Epoch 23/100\n",
      "24/24 [==============================] - 0s 6ms/step - loss: 0.6829 - val_loss: 0.6838\n",
      "Epoch 24/100\n",
      "24/24 [==============================] - 0s 6ms/step - loss: 0.6829 - val_loss: 0.6838\n",
      "Epoch 25/100\n",
      "24/24 [==============================] - 0s 6ms/step - loss: 0.6829 - val_loss: 0.6838\n",
      "Epoch 26/100\n",
      "24/24 [==============================] - 0s 6ms/step - loss: 0.6829 - val_loss: 0.6838\n",
      "Epoch 27/100\n",
      "24/24 [==============================] - 0s 6ms/step - loss: 0.6830 - val_loss: 0.6839\n",
      "Epoch 28/100\n",
      "24/24 [==============================] - 0s 6ms/step - loss: 0.6829 - val_loss: 0.6838\n",
      "Epoch 29/100\n",
      "24/24 [==============================] - 0s 7ms/step - loss: 0.6829 - val_loss: 0.6838\n",
      "Epoch 30/100\n",
      "24/24 [==============================] - 0s 7ms/step - loss: 0.6829 - val_loss: 0.6838\n",
      "Epoch 31/100\n",
      "24/24 [==============================] - 0s 6ms/step - loss: 0.6829 - val_loss: 0.6838\n",
      "Epoch 32/100\n",
      "24/24 [==============================] - 0s 7ms/step - loss: 0.6829 - val_loss: 0.6838\n",
      "Epoch 33/100\n",
      "24/24 [==============================] - 0s 6ms/step - loss: 0.6829 - val_loss: 0.6838\n",
      "Epoch 34/100\n",
      "24/24 [==============================] - 0s 7ms/step - loss: 0.6829 - val_loss: 0.6838\n",
      "Epoch 35/100\n",
      "24/24 [==============================] - 0s 6ms/step - loss: 0.6829 - val_loss: 0.6838\n",
      "Epoch 36/100\n",
      "24/24 [==============================] - 0s 6ms/step - loss: 0.6829 - val_loss: 0.6838\n",
      "Epoch 37/100\n",
      "24/24 [==============================] - 0s 6ms/step - loss: 0.6829 - val_loss: 0.6838\n",
      "Epoch 38/100\n",
      "24/24 [==============================] - 0s 9ms/step - loss: 0.6829 - val_loss: 0.6838\n",
      "Epoch 39/100\n",
      "24/24 [==============================] - 0s 7ms/step - loss: 0.6829 - val_loss: 0.6839\n",
      "Epoch 40/100\n",
      "24/24 [==============================] - 0s 7ms/step - loss: 0.6829 - val_loss: 0.6838\n",
      "Epoch 41/100\n",
      "24/24 [==============================] - 0s 6ms/step - loss: 0.6829 - val_loss: 0.6838\n",
      "Epoch 42/100\n",
      "24/24 [==============================] - 0s 6ms/step - loss: 0.6829 - val_loss: 0.6838\n",
      "Epoch 43/100\n",
      "24/24 [==============================] - 0s 6ms/step - loss: 0.6829 - val_loss: 0.6839\n",
      "Epoch 44/100\n",
      "24/24 [==============================] - 0s 6ms/step - loss: 0.6829 - val_loss: 0.6839\n",
      "Epoch 45/100\n",
      "24/24 [==============================] - 0s 6ms/step - loss: 0.6829 - val_loss: 0.6839\n",
      "Epoch 46/100\n",
      "24/24 [==============================] - 0s 6ms/step - loss: 0.6829 - val_loss: 0.6838\n",
      "Epoch 47/100\n",
      "24/24 [==============================] - 0s 7ms/step - loss: 0.6829 - val_loss: 0.6838\n",
      "Epoch 48/100\n",
      "24/24 [==============================] - 0s 6ms/step - loss: 0.6829 - val_loss: 0.6839\n",
      "Epoch 49/100\n",
      "24/24 [==============================] - 0s 6ms/step - loss: 0.6829 - val_loss: 0.6838\n",
      "Epoch 50/100\n",
      "24/24 [==============================] - 0s 8ms/step - loss: 0.6829 - val_loss: 0.6839\n",
      "Epoch 51/100\n",
      "24/24 [==============================] - 0s 6ms/step - loss: 0.6829 - val_loss: 0.6838\n",
      "Epoch 52/100\n",
      "24/24 [==============================] - 0s 6ms/step - loss: 0.6829 - val_loss: 0.6838\n",
      "Epoch 53/100\n",
      "24/24 [==============================] - 0s 6ms/step - loss: 0.6829 - val_loss: 0.6838\n",
      "Epoch 54/100\n",
      "24/24 [==============================] - 0s 6ms/step - loss: 0.6829 - val_loss: 0.6838\n",
      "Epoch 55/100\n",
      "24/24 [==============================] - 0s 9ms/step - loss: 0.6829 - val_loss: 0.6838\n",
      "Epoch 56/100\n",
      "24/24 [==============================] - 0s 6ms/step - loss: 0.6829 - val_loss: 0.6838\n",
      "Epoch 57/100\n",
      "24/24 [==============================] - 0s 6ms/step - loss: 0.6829 - val_loss: 0.6838\n",
      "Epoch 58/100\n",
      "24/24 [==============================] - 0s 6ms/step - loss: 0.6829 - val_loss: 0.6838\n",
      "Epoch 59/100\n",
      "24/24 [==============================] - 0s 6ms/step - loss: 0.6829 - val_loss: 0.6838\n",
      "Epoch 60/100\n",
      "24/24 [==============================] - 0s 6ms/step - loss: 0.6829 - val_loss: 0.6839\n",
      "Epoch 61/100\n",
      "24/24 [==============================] - 0s 7ms/step - loss: 0.6829 - val_loss: 0.6838\n",
      "Epoch 62/100\n",
      "24/24 [==============================] - 0s 6ms/step - loss: 0.6829 - val_loss: 0.6838\n",
      "Epoch 63/100\n",
      "24/24 [==============================] - 0s 6ms/step - loss: 0.6829 - val_loss: 0.6840\n",
      "Epoch 64/100\n",
      "24/24 [==============================] - 0s 7ms/step - loss: 0.6829 - val_loss: 0.6838\n",
      "Epoch 65/100\n",
      "24/24 [==============================] - 0s 6ms/step - loss: 0.6829 - val_loss: 0.6838\n",
      "Epoch 66/100\n",
      "24/24 [==============================] - 0s 6ms/step - loss: 0.6829 - val_loss: 0.6838\n",
      "Epoch 67/100\n",
      "24/24 [==============================] - 0s 6ms/step - loss: 0.6829 - val_loss: 0.6838\n",
      "Epoch 68/100\n",
      "24/24 [==============================] - 0s 6ms/step - loss: 0.6829 - val_loss: 0.6838\n",
      "Epoch 69/100\n",
      "24/24 [==============================] - 0s 6ms/step - loss: 0.6829 - val_loss: 0.6837\n",
      "Epoch 70/100\n",
      "24/24 [==============================] - 0s 5ms/step - loss: 0.6829 - val_loss: 0.6839\n",
      "Epoch 71/100\n",
      "24/24 [==============================] - 0s 6ms/step - loss: 0.6829 - val_loss: 0.6837\n",
      "Epoch 72/100\n",
      "24/24 [==============================] - 0s 6ms/step - loss: 0.6829 - val_loss: 0.6838\n",
      "Epoch 73/100\n",
      "24/24 [==============================] - 0s 6ms/step - loss: 0.6829 - val_loss: 0.6838\n",
      "Epoch 74/100\n",
      "24/24 [==============================] - 0s 6ms/step - loss: 0.6829 - val_loss: 0.6838\n",
      "Epoch 75/100\n",
      "24/24 [==============================] - 0s 6ms/step - loss: 0.6829 - val_loss: 0.6837\n",
      "Epoch 76/100\n",
      "24/24 [==============================] - 0s 7ms/step - loss: 0.6829 - val_loss: 0.6837\n",
      "Epoch 77/100\n",
      "24/24 [==============================] - 0s 6ms/step - loss: 0.6829 - val_loss: 0.6837\n",
      "Epoch 78/100\n",
      "24/24 [==============================] - 0s 6ms/step - loss: 0.6829 - val_loss: 0.6837\n",
      "Epoch 79/100\n",
      "24/24 [==============================] - 0s 6ms/step - loss: 0.6829 - val_loss: 0.6837\n",
      "Epoch 80/100\n",
      "24/24 [==============================] - 0s 6ms/step - loss: 0.6829 - val_loss: 0.6837\n",
      "Epoch 81/100\n",
      "24/24 [==============================] - 0s 6ms/step - loss: 0.6829 - val_loss: 0.6837\n",
      "Epoch 82/100\n",
      "24/24 [==============================] - 0s 7ms/step - loss: 0.6829 - val_loss: 0.6837\n",
      "Epoch 83/100\n",
      "24/24 [==============================] - 0s 7ms/step - loss: 0.6829 - val_loss: 0.6837\n",
      "Epoch 84/100\n",
      "24/24 [==============================] - 0s 9ms/step - loss: 0.6829 - val_loss: 0.6837\n",
      "Epoch 85/100\n",
      "24/24 [==============================] - 0s 6ms/step - loss: 0.6829 - val_loss: 0.6837\n",
      "Epoch 86/100\n",
      "24/24 [==============================] - 0s 6ms/step - loss: 0.6829 - val_loss: 0.6837\n",
      "Epoch 87/100\n",
      "24/24 [==============================] - 0s 6ms/step - loss: 0.6829 - val_loss: 0.6837\n",
      "Epoch 88/100\n",
      "24/24 [==============================] - 0s 6ms/step - loss: 0.6829 - val_loss: 0.6838\n",
      "Epoch 89/100\n",
      "24/24 [==============================] - 0s 6ms/step - loss: 0.6829 - val_loss: 0.6837\n",
      "Epoch 90/100\n",
      "24/24 [==============================] - 0s 6ms/step - loss: 0.6829 - val_loss: 0.6836\n",
      "Epoch 91/100\n",
      "24/24 [==============================] - 0s 7ms/step - loss: 0.6829 - val_loss: 0.6836\n",
      "Epoch 92/100\n",
      "24/24 [==============================] - 0s 7ms/step - loss: 0.6829 - val_loss: 0.6836\n",
      "Epoch 93/100\n",
      "24/24 [==============================] - 0s 6ms/step - loss: 0.6829 - val_loss: 0.6836\n",
      "Epoch 94/100\n",
      "24/24 [==============================] - 0s 6ms/step - loss: 0.6829 - val_loss: 0.6836\n",
      "Epoch 95/100\n",
      "24/24 [==============================] - 0s 6ms/step - loss: 0.6829 - val_loss: 0.6836\n",
      "Epoch 96/100\n",
      "24/24 [==============================] - 0s 6ms/step - loss: 0.6829 - val_loss: 0.6836\n",
      "Epoch 97/100\n",
      "24/24 [==============================] - 0s 6ms/step - loss: 0.6829 - val_loss: 0.6836\n",
      "Epoch 98/100\n",
      "24/24 [==============================] - 0s 6ms/step - loss: 0.6829 - val_loss: 0.6836\n",
      "Epoch 99/100\n",
      "24/24 [==============================] - 0s 6ms/step - loss: 0.6829 - val_loss: 0.6836\n",
      "Epoch 100/100\n",
      "24/24 [==============================] - 0s 6ms/step - loss: 0.6829 - val_loss: 0.6836\n"
     ]
    },
    {
     "data": {
      "text/plain": "<keras.src.callbacks.History at 0x2830f1cf0a0>"
     },
     "execution_count": 8,
     "metadata": {},
     "output_type": "execute_result"
    }
   ],
   "source": [
    "autoencoder.fit(normal_train_data, normal_train_data, epochs=100, batch_size=256, validation_data=(test_data, test_data), validation_batch_size=128)"
   ],
   "metadata": {
    "collapsed": false,
    "ExecuteTime": {
     "start_time": "2023-08-22T22:17:17.370346Z",
     "end_time": "2023-08-22T22:17:35.387675Z"
    }
   }
  },
  {
   "cell_type": "markdown",
   "source": [
    "## Save model"
   ],
   "metadata": {
    "collapsed": false
   }
  },
  {
   "cell_type": "code",
   "execution_count": 9,
   "outputs": [
    {
     "name": "stdout",
     "output_type": "stream",
     "text": [
      "3125/3125 [==============================] - 5s 2ms/step\n",
      "[0.004, 0.71824]\n"
     ]
    }
   ],
   "source": [
    "dataframe = pd.read_csv('../dataset/ecg_prod_100k.csv', header=None)\n",
    "random_dataframe = dataframe\n",
    "raw_data = random_dataframe.values\n",
    "\n",
    "labels = raw_data[:, -1]\n",
    "data = raw_data[:, 0:-1]\n",
    "result = autoencoder.predict(data)\n",
    "\n",
    "\n",
    "def mean_squared_error(y, y_pred):\n",
    "    # Calculate the squared errors\n",
    "    squared_errors = (y - y_pred) ** 2\n",
    "\n",
    "    # Mean of the sum of squared errors\n",
    "    mse = np.mean(squared_errors)\n",
    "\n",
    "    return mse\n",
    "\n",
    "\n",
    "mse = []\n",
    "\n",
    "for i in range(len(result)):\n",
    "    mse.append(mean_squared_error(data[i], result[i]))\n",
    "correctly_recognized_samples_normal = 0\n",
    "correctly_recognized_samples_anomalous = 0\n",
    "temp = []\n",
    "corr_max = [0, float('inf')]\n",
    "for i in np.arange(0.001, 0.02, 0.001):\n",
    "    for j in range(0, len(mse)):\n",
    "        if mse[j] > i and labels[j] == 0:\n",
    "            correctly_recognized_samples_anomalous += 1\n",
    "        if mse[j] < i and labels[j] == 1:\n",
    "            correctly_recognized_samples_normal += 1\n",
    "    if abs(correctly_recognized_samples_normal / 75000 - correctly_recognized_samples_anomalous / 25000) < corr_max[1]:\n",
    "        corr_max = [i,\n",
    "                    (correctly_recognized_samples_normal / 75000 + correctly_recognized_samples_anomalous / 25000) / 2]\n",
    "        temp = [correctly_recognized_samples_normal, correctly_recognized_samples_anomalous]\n",
    "    correctly_recognized_samples_normal = 0\n",
    "    correctly_recognized_samples_anomalous = 0\n",
    "print(corr_max)"
   ],
   "metadata": {
    "collapsed": false,
    "ExecuteTime": {
     "start_time": "2023-08-22T22:22:03.606843Z",
     "end_time": "2023-08-22T22:22:17.043718Z"
    }
   }
  },
  {
   "cell_type": "markdown",
   "source": [],
   "metadata": {
    "collapsed": false
   }
  },
  {
   "cell_type": "code",
   "execution_count": 6,
   "outputs": [
    {
     "data": {
      "text/plain": "<Figure size 1000x600 with 1 Axes>",
      "image/png": "[encoded data removed]"
     },
     "metadata": {},
     "output_type": "display_data"
    }
   ],
   "source": [
    "import matplotlib.pyplot as plt\n",
    "\n",
    "# Define the x-axis values\n",
    "x = [10000, 25000, 50000, 100000]\n",
    "\n",
    "# Define the y-values for the two functions\n",
    "y1 = [1, 1, 1, 1]\n",
    "y2 = [0.56, 0.54, 0.56, 0.51]\n",
    "\n",
    "# Create the plot\n",
    "plt.figure(figsize=(10,6))\n",
    "\n",
    "# Plot the two functions\n",
    "plt.plot(x, y1, 'o-', label='Walidacja na zbiorze statycznym')\n",
    "plt.plot(x, y2, 's-', label='Walidacja na strumieniu testowym')\n",
    "\n",
    "# Annotate the y-values on the plot for each point\n",
    "for xi, y1i, y2i in zip(x, y1, y2):\n",
    "    plt.annotate(f\"{y1i}\", (xi, y1i), textcoords=\"offset points\", xytext=(0,5), ha='center')\n",
    "    plt.annotate(f\"{y2i}\", (xi, y2i), textcoords=\"offset points\", xytext=(0,-15), ha='center')\n",
    "\n",
    "    # Annotate x-values for each point\n",
    "    offset = -30 if y1i < y2i else 15  # Adjust offset based on the lower y value\n",
    "    plt.annotate(f\"{xi}\", (xi, 0), textcoords=\"offset points\", xytext=(0,offset), ha='center', fontsize=9, color='gray')\n",
    "\n",
    "# Set y-limits and x-limits\n",
    "plt.ylim(0, 1.2)\n",
    "plt.xlim(5000, 110000)\n",
    "\n",
    "# Label the axes\n",
    "plt.xlabel(\"Liczba próbek terningowych\")\n",
    "plt.ylabel(\"Dokładność modelu\")\n",
    "\n",
    "# Display the legend in the bottom left with an increased margin from the bottom\n",
    "plt.legend(loc='lower left', bbox_to_anchor=(0, 0.1))\n",
    "\n",
    "# Display the plot\n",
    "plt.grid(True)\n",
    "plt.tight_layout()\n",
    "plt.show()"
   ],
   "metadata": {
    "collapsed": false,
    "ExecuteTime": {
     "start_time": "2023-08-23T19:29:57.207705Z",
     "end_time": "2023-08-23T19:29:57.559246Z"
    }
   }
  },
  {
   "cell_type": "code",
   "execution_count": 23,
   "outputs": [
    {
     "name": "stdout",
     "output_type": "stream",
     "text": [
      "INFO:tensorflow:Assets written to: ../models/detectors/autoencoder_50k\\assets\n"
     ]
    },
    {
     "name": "stderr",
     "output_type": "stream",
     "text": [
      "INFO:tensorflow:Assets written to: ../models/detectors/autoencoder_50k\\assets\n"
     ]
    }
   ],
   "source": [
    "autoencoder.save('../models/detectors/autoencoder_50k')"
   ],
   "metadata": {
    "collapsed": false,
    "ExecuteTime": {
     "start_time": "2023-08-22T13:09:07.006726Z",
     "end_time": "2023-08-22T13:09:09.168056Z"
    }
   }
  },
  {
   "cell_type": "markdown",
   "source": [
    "## Model testing"
   ],
   "metadata": {
    "collapsed": false
   }
  }
 ],
 "metadata": {
  "kernelspec": {
   "display_name": "Python 3",
   "language": "python",
   "name": "python3"
  },
  "language_info": {
   "codemirror_mode": {
    "name": "ipython",
    "version": 2
   },
   "file_extension": ".py",
   "mimetype": "text/x-python",
   "name": "python",
   "nbconvert_exporter": "python",
   "pygments_lexer": "ipython2",
   "version": "2.7.6"
  }
 },
 "nbformat": 4,
 "nbformat_minor": 0
}
