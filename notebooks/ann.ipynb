{
 "cells": [
  {
   "cell_type": "markdown",
   "source": [
    "# Anomaly detection ANN\n",
    "That model based on an Artificial Neural Network (ANN) and using k-fold cross-validation for model fitting"
   ],
   "metadata": {
    "collapsed": false
   }
  },
  {
   "cell_type": "markdown",
   "source": [
    "## Imports"
   ],
   "metadata": {
    "collapsed": false
   }
  },
  {
   "cell_type": "code",
   "execution_count": 5,
   "metadata": {
    "collapsed": true,
    "ExecuteTime": {
     "start_time": "2023-08-22T00:52:35.022540Z",
     "end_time": "2023-08-22T00:52:35.048539Z"
    }
   },
   "outputs": [],
   "source": [
    "import tensorflow as tf\n",
    "import pandas as pd\n",
    "from sklearn.model_selection import train_test_split\n",
    "import numpy as np\n",
    "\n",
    "tf.config.run_functions_eagerly(True)\n",
    "tf.data.experimental.enable_debug_mode()"
   ]
  },
  {
   "cell_type": "markdown",
   "source": [
    "## Data preparation"
   ],
   "metadata": {
    "collapsed": false
   }
  },
  {
   "cell_type": "code",
   "execution_count": 26,
   "outputs": [
    {
     "data": {
      "text/plain": "array([0.37384388, 0.33639914, 0.29220684, 0.2369105 , 0.18396553,\n       0.23330904, 0.32890871, 0.34812805, 0.35549459, 0.37457943,\n       0.39906553, 0.38121472, 0.39477823, 0.40856196, 0.41803048,\n       0.42485283, 0.42846819, 0.43021706, 0.42782421, 0.43061995,\n       0.44178457, 0.44811007, 0.44674998, 0.44670517, 0.44145568,\n       0.44660167, 0.4498304 , 0.44443793, 0.44170477, 0.43951079,\n       0.43901022, 0.44621926, 0.43983829, 0.43034966, 0.42979373,\n       0.42337279, 0.42805703, 0.4304129 , 0.43278902, 0.44333507,\n       0.44340251, 0.44593788, 0.45297184, 0.46326663, 0.46850411,\n       0.46642271, 0.45947805, 0.46982658, 0.47641252, 0.48017024,\n       0.47851906, 0.47849433, 0.48098072, 0.47342438, 0.47343824,\n       0.46571627, 0.46505243, 0.46624539, 0.45994229, 0.46660134,\n       0.46842879, 0.47157793, 0.46928962, 0.47351208, 0.47037597,\n       0.47381511, 0.46626443, 0.47107282, 0.48755017, 0.49231223,\n       0.49615439, 0.50338477, 0.50035226, 0.50103022, 0.50082775,\n       0.51431503, 0.51896037, 0.52521118, 0.52758501, 0.52984103,\n       0.53675265, 0.53709577, 0.53721418, 0.52670285, 0.52851386,\n       0.53298198, 0.52776155, 0.53887043, 0.54266828, 0.53260767,\n       0.52400721, 0.5185088 , 0.51928359, 0.52291857, 0.53123047,\n       0.53394609, 0.54456885, 0.54014594, 0.55172243, 0.54733836,\n       0.54718094, 0.53721565, 0.53459701, 0.54047486, 0.54542881,\n       0.54569694, 0.54430659, 0.54806893, 0.53732281, 0.52437126,\n       0.5186563 , 0.50374827, 0.49858979, 0.48726163, 0.48650091,\n       0.48567326, 0.49024138, 0.49214619, 0.48801845, 0.48555229,\n       0.48785907, 0.4925677 , 0.48153272, 0.48657411, 0.49425615,\n       0.51456379, 0.51681719, 0.5115474 , 0.51107014, 0.50602328,\n       0.502817  , 0.50724688, 0.50805558, 0.49789086, 0.44124512,\n       0.46350332, 0.44109056, 0.44095146, 0.48508872, 0.55245555])"
     },
     "execution_count": 26,
     "metadata": {},
     "output_type": "execute_result"
    }
   ],
   "source": [
    "dataframe = pd.read_csv('../dataset/ecg_prod_25k.csv', header=None)\n",
    "raw_data = dataframe.values\n",
    "\n",
    "labels = raw_data[:, -1]\n",
    "data = raw_data[:, 0:-1]\n",
    "\n",
    "train_data, test_data, train_labels, test_labels = train_test_split(data, labels, test_size=0.2, random_state=50)\n",
    "\n",
    "train_data[0]"
   ],
   "metadata": {
    "collapsed": false,
    "ExecuteTime": {
     "start_time": "2023-08-22T01:11:27.763003Z",
     "end_time": "2023-08-22T01:11:29.667000Z"
    }
   }
  },
  {
   "cell_type": "markdown",
   "source": [
    "## ANN model"
   ],
   "metadata": {
    "collapsed": false
   }
  },
  {
   "cell_type": "code",
   "execution_count": 27,
   "outputs": [],
   "source": [
    "def build_model():\n",
    "    model = tf.keras.models.Sequential()\n",
    "    model.add(tf.keras.layers.Dense(64, activation='relu', input_shape=(train_data.shape[1],)))\n",
    "    model.add(tf.keras.layers.Dense(32, activation='relu'))\n",
    "    model.add(tf.keras.layers.Dense(1, activation='sigmoid'))\n",
    "    model.compile(\n",
    "        optimizer=tf.keras.optimizers.Adam(learning_rate=0.0002, beta_1=0.5),\n",
    "        loss=tf.keras.losses.binary_crossentropy,\n",
    "        metrics=[tf.keras.metrics.binary_accuracy]\n",
    "    )\n",
    "    return model\n"
   ],
   "metadata": {
    "collapsed": false,
    "ExecuteTime": {
     "start_time": "2023-08-22T01:11:33.415705Z",
     "end_time": "2023-08-22T01:11:33.483701Z"
    }
   }
  },
  {
   "cell_type": "markdown",
   "source": [
    "## Model training\n",
    "Below there is a process of fitting model using k-fold cross-validation"
   ],
   "metadata": {
    "collapsed": false
   }
  },
  {
   "cell_type": "code",
   "execution_count": 23,
   "outputs": [
    {
     "name": "stdout",
     "output_type": "stream",
     "text": [
      "processing fold #0\n",
      "Epoch 1/10\n",
      "47/47 [==============================] - 2s 38ms/step - loss: 0.5522 - binary_accuracy: 0.7540\n",
      "Epoch 2/10\n",
      "47/47 [==============================] - 2s 45ms/step - loss: 0.5154 - binary_accuracy: 0.7540\n",
      "Epoch 3/10\n",
      "47/47 [==============================] - 2s 37ms/step - loss: 0.4964 - binary_accuracy: 0.7540\n",
      "Epoch 4/10\n",
      "47/47 [==============================] - 2s 37ms/step - loss: 0.4719 - binary_accuracy: 0.7540\n",
      "Epoch 5/10\n",
      "47/47 [==============================] - 2s 37ms/step - loss: 0.4377 - binary_accuracy: 0.7540\n",
      "Epoch 6/10\n",
      "47/47 [==============================] - 2s 37ms/step - loss: 0.3943 - binary_accuracy: 0.7540\n",
      "Epoch 7/10\n",
      "47/47 [==============================] - 2s 37ms/step - loss: 0.3420 - binary_accuracy: 0.7732\n",
      "Epoch 8/10\n",
      "47/47 [==============================] - 2s 36ms/step - loss: 0.2845 - binary_accuracy: 0.9205\n",
      "Epoch 9/10\n",
      "47/47 [==============================] - 2s 36ms/step - loss: 0.2279 - binary_accuracy: 0.9972\n",
      "Epoch 10/10\n",
      "47/47 [==============================] - 2s 36ms/step - loss: 0.1774 - binary_accuracy: 0.9998\n",
      "processing fold #1\n",
      "Epoch 1/10\n",
      "47/47 [==============================] - 2s 36ms/step - loss: 0.5859 - binary_accuracy: 0.7328\n",
      "Epoch 2/10\n",
      "47/47 [==============================] - 2s 36ms/step - loss: 0.5284 - binary_accuracy: 0.7482\n",
      "Epoch 3/10\n",
      "47/47 [==============================] - 2s 36ms/step - loss: 0.5063 - binary_accuracy: 0.7482\n",
      "Epoch 4/10\n",
      "47/47 [==============================] - 2s 37ms/step - loss: 0.4789 - binary_accuracy: 0.7482\n",
      "Epoch 5/10\n",
      "47/47 [==============================] - 2s 36ms/step - loss: 0.4438 - binary_accuracy: 0.7482\n",
      "Epoch 6/10\n",
      "47/47 [==============================] - 2s 36ms/step - loss: 0.4008 - binary_accuracy: 0.7482\n",
      "Epoch 7/10\n",
      "47/47 [==============================] - 2s 38ms/step - loss: 0.3494 - binary_accuracy: 0.7700\n",
      "Epoch 8/10\n",
      "47/47 [==============================] - 2s 38ms/step - loss: 0.2679 - binary_accuracy: 0.9873\n",
      "Epoch 9/10\n",
      "47/47 [==============================] - 2s 36ms/step - loss: 0.1983 - binary_accuracy: 0.9998\n",
      "Epoch 10/10\n",
      "47/47 [==============================] - 2s 36ms/step - loss: 0.1465 - binary_accuracy: 1.0000\n",
      "processing fold #2\n",
      "Epoch 1/10\n",
      "47/47 [==============================] - 2s 37ms/step - loss: 0.5716 - binary_accuracy: 0.7433\n",
      "Epoch 2/10\n",
      "47/47 [==============================] - 2s 36ms/step - loss: 0.5268 - binary_accuracy: 0.7457\n",
      "Epoch 3/10\n",
      "47/47 [==============================] - 2s 36ms/step - loss: 0.5050 - binary_accuracy: 0.7457\n",
      "Epoch 4/10\n",
      "47/47 [==============================] - 2s 36ms/step - loss: 0.4748 - binary_accuracy: 0.7457\n",
      "Epoch 5/10\n",
      "47/47 [==============================] - 2s 36ms/step - loss: 0.4342 - binary_accuracy: 0.7457\n",
      "Epoch 6/10\n",
      "47/47 [==============================] - 2s 36ms/step - loss: 0.3783 - binary_accuracy: 0.7458\n",
      "Epoch 7/10\n",
      "47/47 [==============================] - 2s 36ms/step - loss: 0.3098 - binary_accuracy: 0.8667\n",
      "Epoch 8/10\n",
      "47/47 [==============================] - 2s 45ms/step - loss: 0.2409 - binary_accuracy: 0.9895\n",
      "Epoch 9/10\n",
      "47/47 [==============================] - 2s 36ms/step - loss: 0.1812 - binary_accuracy: 1.0000\n",
      "Epoch 10/10\n",
      "47/47 [==============================] - 2s 36ms/step - loss: 0.1332 - binary_accuracy: 1.0000\n",
      "processing fold #3\n",
      "Epoch 1/10\n",
      "47/47 [==============================] - 2s 36ms/step - loss: 0.5256 - binary_accuracy: 0.7547\n",
      "Epoch 2/10\n",
      "47/47 [==============================] - 2s 36ms/step - loss: 0.4907 - binary_accuracy: 0.7547\n",
      "Epoch 3/10\n",
      "47/47 [==============================] - 2s 36ms/step - loss: 0.4485 - binary_accuracy: 0.7547\n",
      "Epoch 4/10\n",
      "47/47 [==============================] - 2s 36ms/step - loss: 0.3932 - binary_accuracy: 0.7547\n",
      "Epoch 5/10\n",
      "47/47 [==============================] - 2s 36ms/step - loss: 0.3273 - binary_accuracy: 0.7983\n",
      "Epoch 6/10\n",
      "47/47 [==============================] - 2s 36ms/step - loss: 0.2590 - binary_accuracy: 0.9725\n",
      "Epoch 7/10\n",
      "47/47 [==============================] - 2s 37ms/step - loss: 0.1958 - binary_accuracy: 0.9998\n",
      "Epoch 8/10\n",
      "47/47 [==============================] - 2s 36ms/step - loss: 0.1443 - binary_accuracy: 1.0000\n",
      "Epoch 9/10\n",
      "47/47 [==============================] - 2s 37ms/step - loss: 0.1058 - binary_accuracy: 1.0000\n",
      "Epoch 10/10\n",
      "47/47 [==============================] - 2s 36ms/step - loss: 0.0758 - binary_accuracy: 1.0000\n"
     ]
    }
   ],
   "source": [
    "k = int(4)\n",
    "num_val_samples = len(train_data) // k\n",
    "epochs = 10\n",
    "all_scores = []\n",
    "\n",
    "for i in range(k):\n",
    "    print(f'processing fold #{i}')\n",
    "    val_data = train_data[i * num_val_samples: (i+1) * num_val_samples]\n",
    "    val_labels = train_labels[i*num_val_samples: (i+1) * num_val_samples]\n",
    "\n",
    "    partial_train_data = np.concatenate(\n",
    "        [train_data[:i * num_val_samples],\n",
    "         train_data[(i+1) * num_val_samples:]],\n",
    "        axis=0\n",
    "    )\n",
    "\n",
    "    partial_train_labels = np.concatenate(\n",
    "        [train_labels[:i * num_val_samples],\n",
    "        train_labels[(i+1) * num_val_samples:]],\n",
    "        axis=0\n",
    "    )\n",
    "\n",
    "    model = build_model()\n",
    "\n",
    "    model.fit(\n",
    "        partial_train_data,\n",
    "        partial_train_labels,\n",
    "        epochs=epochs,\n",
    "        batch_size=128\n",
    "    )\n",
    "\n",
    "    results = model.evaluate(val_data, val_labels, verbose=0)"
   ],
   "metadata": {
    "collapsed": false,
    "ExecuteTime": {
     "start_time": "2023-08-22T01:09:03.603567Z",
     "end_time": "2023-08-22T01:10:17.598351Z"
    }
   }
  },
  {
   "cell_type": "markdown",
   "source": [
    "## Model saving"
   ],
   "metadata": {
    "collapsed": false
   }
  },
  {
   "cell_type": "code",
   "execution_count": 28,
   "outputs": [
    {
     "name": "stdout",
     "output_type": "stream",
     "text": [
      "Epoch 1/10\n",
      "157/157 [==============================] - 8s 51ms/step - loss: 0.5173 - binary_accuracy: 0.7484\n",
      "Epoch 2/10\n",
      "157/157 [==============================] - 7s 44ms/step - loss: 0.3583 - binary_accuracy: 0.8133\n",
      "Epoch 3/10\n",
      "157/157 [==============================] - 9s 54ms/step - loss: 0.1474 - binary_accuracy: 1.0000\n",
      "Epoch 4/10\n",
      "157/157 [==============================] - 8s 54ms/step - loss: 0.0531 - binary_accuracy: 1.0000\n",
      "Epoch 5/10\n",
      "157/157 [==============================] - 7s 45ms/step - loss: 0.0239 - binary_accuracy: 1.0000\n",
      "Epoch 6/10\n",
      "157/157 [==============================] - 7s 44ms/step - loss: 0.0131 - binary_accuracy: 1.0000\n",
      "Epoch 7/10\n",
      "157/157 [==============================] - 7s 46ms/step - loss: 0.0082 - binary_accuracy: 1.0000\n",
      "Epoch 8/10\n",
      "157/157 [==============================] - 7s 43ms/step - loss: 0.0055 - binary_accuracy: 1.0000\n",
      "Epoch 9/10\n",
      "157/157 [==============================] - 7s 47ms/step - loss: 0.0040 - binary_accuracy: 1.0000\n",
      "Epoch 10/10\n",
      "157/157 [==============================] - 7s 44ms/step - loss: 0.0029 - binary_accuracy: 1.0000\n"
     ]
    },
    {
     "data": {
      "text/plain": "<keras.src.callbacks.History at 0x1f52bcfcf10>"
     },
     "execution_count": 28,
     "metadata": {},
     "output_type": "execute_result"
    }
   ],
   "source": [
    "model = build_model()\n",
    "\n",
    "model.fit(\n",
    "    train_data,\n",
    "    train_labels,\n",
    "    epochs=epochs,\n",
    "    batch_size=128\n",
    ")"
   ],
   "metadata": {
    "collapsed": false,
    "ExecuteTime": {
     "start_time": "2023-08-22T01:12:41.685975Z",
     "end_time": "2023-08-22T01:13:56.055554Z"
    }
   }
  },
  {
   "cell_type": "code",
   "execution_count": 30,
   "outputs": [
    {
     "name": "stdout",
     "output_type": "stream",
     "text": [
      "782/782 [==============================] - 5s 7ms/step\n",
      "[0.29000000000000004, 0.635682962962963]\n",
      "313/313 [==============================] - 2s 6ms/step\n",
      "[0.29000000000000004, 0.25414518518518514]\n"
     ]
    }
   ],
   "source": [
    "dataframe = pd.read_csv('../dataset/ecg_prod_10k.csv', header=None)\n",
    "random_dataframe = dataframe\n",
    "raw_data = random_dataframe.values\n",
    "\n",
    "labels = raw_data[:, -1]\n",
    "data = raw_data[:, 0:-1]\n",
    "result = model.predict(data)\n",
    "\n",
    "\n",
    "def mean_squared_error(y, y_pred):\n",
    "    # Calculate the squared errors\n",
    "    squared_errors = (y - y_pred) ** 2\n",
    "\n",
    "    # Mean of the sum of squared errors\n",
    "    mse = np.mean(squared_errors)\n",
    "\n",
    "    return mse\n",
    "\n",
    "\n",
    "mse = []\n",
    "\n",
    "for i in range(len(result)):\n",
    "    mse.append(mean_squared_error(data[i], result[i]))\n",
    "correctly_recognized_samples_normal = 0\n",
    "correctly_recognized_samples_anomalous = 0\n",
    "temp = []\n",
    "corr_max = [0, float('inf')]\n",
    "for i in np.arange(0.01, 1.0, 0.01):\n",
    "    for j in range(0, len(mse)):\n",
    "        if mse[j] < i and labels[j] == 0:\n",
    "            correctly_recognized_samples_anomalous += 1\n",
    "        if mse[j] > i and labels[j] == 1:\n",
    "            correctly_recognized_samples_normal += 1\n",
    "    if abs(correctly_recognized_samples_normal / 18750 - correctly_recognized_samples_anomalous / 6750) < corr_max[1]:\n",
    "        corr_max = [i,\n",
    "                    (correctly_recognized_samples_normal / 18750 + correctly_recognized_samples_anomalous / 6750) / 2]\n",
    "        temp = [correctly_recognized_samples_normal, correctly_recognized_samples_anomalous]\n",
    "    correctly_recognized_samples_normal = 0\n",
    "    correctly_recognized_samples_anomalous = 0\n",
    "print(corr_max)"
   ],
   "metadata": {
    "collapsed": false,
    "ExecuteTime": {
     "start_time": "2023-08-22T01:14:05.347660Z",
     "end_time": "2023-08-22T01:14:08.687944Z"
    }
   }
  },
  {
   "cell_type": "code",
   "execution_count": 25,
   "outputs": [
    {
     "name": "stdout",
     "output_type": "stream",
     "text": [
      "INFO:tensorflow:Assets written to: ../models/detectors/ann_10k\\assets\n"
     ]
    },
    {
     "name": "stderr",
     "output_type": "stream",
     "text": [
      "INFO:tensorflow:Assets written to: ../models/detectors/ann_10k\\assets\n"
     ]
    }
   ],
   "source": [
    "model.save('../models/detectors/ann_10k')"
   ],
   "metadata": {
    "collapsed": false,
    "ExecuteTime": {
     "start_time": "2023-08-22T01:10:29.901772Z",
     "end_time": "2023-08-22T01:10:31.309986Z"
    }
   }
  },
  {
   "cell_type": "markdown",
   "source": [
    "## Model evaluating and testing"
   ],
   "metadata": {
    "collapsed": false
   }
  }
 ],
 "metadata": {
  "kernelspec": {
   "display_name": "Python 3",
   "language": "python",
   "name": "python3"
  },
  "language_info": {
   "codemirror_mode": {
    "name": "ipython",
    "version": 2
   },
   "file_extension": ".py",
   "mimetype": "text/x-python",
   "name": "python",
   "nbconvert_exporter": "python",
   "pygments_lexer": "ipython2",
   "version": "2.7.6"
  }
 },
 "nbformat": 4,
 "nbformat_minor": 0
}
