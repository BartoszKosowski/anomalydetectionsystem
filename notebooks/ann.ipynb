{
 "cells": [
  {
   "cell_type": "markdown",
   "source": [
    "# Anomaly detection ANN\n",
    "That model based on an Artificial Neural Network (ANN) and using k-fold cross-validation for model fitting"
   ],
   "metadata": {
    "collapsed": false
   }
  },
  {
   "cell_type": "markdown",
   "source": [
    "## Imports"
   ],
   "metadata": {
    "collapsed": false
   }
  },
  {
   "cell_type": "code",
   "execution_count": null,
   "metadata": {
    "collapsed": true,
    "ExecuteTime": {
     "start_time": "2023-08-26T01:39:09.587361Z",
     "end_time": "2023-08-26T01:39:09.626544Z"
    }
   },
   "outputs": [],
   "source": [
    "import tensorflow as tf\n",
    "import pandas as pd\n",
    "from sklearn.model_selection import train_test_split\n",
    "import numpy as np\n",
    "\n",
    "tf.config.run_functions_eagerly(True)\n",
    "tf.data.experimental.enable_debug_mode()"
   ]
  },
  {
   "cell_type": "markdown",
   "source": [
    "## Data preparation"
   ],
   "metadata": {
    "collapsed": false
   }
  },
  {
   "cell_type": "markdown",
   "source": [
    "### Run for ECG"
   ],
   "metadata": {
    "collapsed": false
   }
  },
  {
   "cell_type": "code",
   "execution_count": null,
   "outputs": [],
   "source": [
    "dataframe = pd.read_csv('../dataset/ecg_prod_10k.csv', header=None)\n",
    "raw_data = dataframe.values\n",
    "\n",
    "labels = raw_data[:, -1]\n",
    "data = raw_data[:, 0:-1]\n",
    "\n",
    "train_data, test_data, train_labels, test_labels = train_test_split(data, labels, test_size=0.2, random_state=50)\n",
    "\n",
    "train_data[0]"
   ],
   "metadata": {
    "collapsed": false,
    "ExecuteTime": {
     "start_time": "2023-08-26T01:39:11.127000Z",
     "end_time": "2023-08-26T01:39:11.630626Z"
    }
   }
  },
  {
   "cell_type": "markdown",
   "source": [
    "### Run for signal"
   ],
   "metadata": {
    "collapsed": false
   }
  },
  {
   "cell_type": "code",
   "execution_count": null,
   "outputs": [],
   "source": [
    "dataframe = pd.read_csv('../dataset/signal_10k.csv', header=None)\n",
    "raw_data = dataframe.values\n",
    "\n",
    "labels = raw_data[:, -1]\n",
    "data = raw_data[:, 0:-1]\n",
    "\n",
    "train_data, test_data, train_labels, test_labels = train_test_split(data, labels, test_size=0.2, random_state=50)\n",
    "\n",
    "\n",
    "train_data = tf.cast(train_data, tf.float32)\n",
    "test_data = tf.cast(test_data, tf.float32)\n",
    "\n",
    "train_labels = train_labels.astype(bool)\n",
    "test_labels = test_labels.astype(bool)"
   ],
   "metadata": {
    "collapsed": false,
    "ExecuteTime": {
     "start_time": "2023-08-26T01:39:13.102000Z",
     "end_time": "2023-08-26T01:39:13.539383Z"
    }
   }
  },
  {
   "cell_type": "markdown",
   "source": [
    "## ANN model"
   ],
   "metadata": {
    "collapsed": false
   }
  },
  {
   "cell_type": "code",
   "execution_count": null,
   "outputs": [],
   "source": [
    "def build_model(neurons):\n",
    "    model = tf.keras.models.Sequential()\n",
    "    model.add(tf.keras.layers.Dense(neurons[0], activation='relu', input_shape=(train_data.shape[1],)))\n",
    "    model.add(tf.keras.layers.Dense(neurons[1], activation='relu'))\n",
    "    model.add(tf.keras.layers.Dense(neurons[2], activation='relu'))\n",
    "    model.add(tf.keras.layers.Dense(neurons[3], activation='relu'))\n",
    "    model.add(tf.keras.layers.Dense(1, activation='sigmoid'))\n",
    "    model.compile(\n",
    "        optimizer=tf.keras.optimizers.Lion(learning_rate=0.0002, beta_1=0.5),\n",
    "        loss=tf.keras.losses.binary_crossentropy,\n",
    "        metrics=[tf.keras.metrics.binary_accuracy]\n",
    "    )\n",
    "    return model\n"
   ],
   "metadata": {
    "collapsed": false,
    "ExecuteTime": {
     "start_time": "2023-08-26T01:49:18.809735Z",
     "end_time": "2023-08-26T01:49:18.841026Z"
    }
   }
  },
  {
   "cell_type": "markdown",
   "source": [
    "## Model training\n",
    "Below there is a process of fitting model using k-fold cross-validation"
   ],
   "metadata": {
    "collapsed": false
   }
  },
  {
   "cell_type": "code",
   "execution_count": null,
   "outputs": [],
   "source": [
    "k = int(4)\n",
    "num_val_samples = len(train_data) // k\n",
    "epochs = 25\n",
    "all_scores = []\n",
    "neurons = [\n",
    "    [32, 32, 16],\n",
    "    [128, 32, 16],\n",
    "    [64,16,8],\n",
    "    [256, 128, 32]\n",
    "]\n",
    "for i in range(k):\n",
    "    print(f'processing fold #{i}')\n",
    "    val_data = train_data[i * num_val_samples: (i+1) * num_val_samples]\n",
    "    val_labels = train_labels[i*num_val_samples: (i+1) * num_val_samples]\n",
    "\n",
    "    partial_train_data = np.concatenate(\n",
    "        [train_data[:i * num_val_samples],\n",
    "         train_data[(i+1) * num_val_samples:]],\n",
    "        axis=0\n",
    "    )\n",
    "\n",
    "    partial_train_labels = np.concatenate(\n",
    "        [train_labels[:i * num_val_samples],\n",
    "        train_labels[(i+1) * num_val_samples:]],\n",
    "        axis=0\n",
    "    )\n",
    "\n",
    "    model = build_model(neurons[i])\n",
    "\n",
    "    model.fit(\n",
    "        partial_train_data,\n",
    "        partial_train_labels,\n",
    "        epochs=epochs,\n",
    "        batch_size=128\n",
    "    )\n",
    "\n",
    "    results = model.evaluate(val_data, val_labels, verbose=0)"
   ],
   "metadata": {
    "collapsed": false,
    "ExecuteTime": {
     "start_time": "2023-08-25T18:39:06.562586Z",
     "end_time": "2023-08-25T18:43:01.613257Z"
    }
   }
  },
  {
   "cell_type": "markdown",
   "source": [
    "## Model saving"
   ],
   "metadata": {
    "collapsed": false
   }
  },
  {
   "cell_type": "markdown",
   "source": [
    "Fit the best model from tested ones"
   ],
   "metadata": {
    "collapsed": false
   }
  },
  {
   "cell_type": "code",
   "execution_count": null,
   "outputs": [],
   "source": [
    "model = build_model([32, 32, 16, 8])\n",
    "\n",
    "model.fit(\n",
    "    train_data,\n",
    "    train_labels,\n",
    "    epochs=25,\n",
    "    batch_size=128\n",
    ")"
   ],
   "metadata": {
    "collapsed": false,
    "ExecuteTime": {
     "start_time": "2023-08-26T01:49:26.243989Z",
     "end_time": "2023-08-26T01:50:34.582418Z"
    }
   }
  },
  {
   "cell_type": "code",
   "execution_count": null,
   "outputs": [],
   "source": [
    "dataframe = pd.read_csv('../dataset/signal_10k_val.csv', header=None)\n",
    "random_dataframe = dataframe\n",
    "raw_data = random_dataframe.values\n",
    "\n",
    "labels = raw_data[:, -1]\n",
    "data = raw_data[:, 0:-1]\n",
    "result = model.predict(data)\n",
    "\n",
    "\n",
    "\n",
    "correctly_recognized_samples_normal = 0\n",
    "correctly_recognized_samples_anomalous = 0\n",
    "temp = []\n",
    "corr_max = [0, float('inf')]\n",
    "for i in np.arange(0.01, 1.0, 0.01):\n",
    "    for j in range(0, len(result)):\n",
    "        if result[j] < i and labels[j] == 0:\n",
    "            correctly_recognized_samples_anomalous += 1\n",
    "        if result[j] > i and labels[j] == 1:\n",
    "            correctly_recognized_samples_normal += 1\n",
    "    if abs(correctly_recognized_samples_normal / 5000 - correctly_recognized_samples_anomalous / 5000) < corr_max[1]:\n",
    "        corr_max = [i,\n",
    "                    (correctly_recognized_samples_normal / 5000 + correctly_recognized_samples_anomalous / 5000) / 2]\n",
    "        temp = [correctly_recognized_samples_normal, correctly_recognized_samples_anomalous]\n",
    "    correctly_recognized_samples_normal = 0\n",
    "    correctly_recognized_samples_anomalous = 0\n",
    "print(corr_max)"
   ],
   "metadata": {
    "collapsed": false,
    "ExecuteTime": {
     "start_time": "2023-08-26T01:50:36.440116Z",
     "end_time": "2023-08-26T01:50:44.326452Z"
    }
   }
  },
  {
   "cell_type": "code",
   "execution_count": null,
   "outputs": [],
   "source": [
    "print(temp)"
   ],
   "metadata": {
    "collapsed": false,
    "ExecuteTime": {
     "start_time": "2023-08-26T01:46:45.790001Z",
     "end_time": "2023-08-26T01:46:45.836958Z"
    }
   }
  },
  {
   "cell_type": "code",
   "execution_count": null,
   "outputs": [],
   "source": [
    "model.save('../models/detectors/ann_signal')"
   ],
   "metadata": {
    "collapsed": false,
    "ExecuteTime": {
     "start_time": "2023-08-26T01:42:00.937798Z",
     "end_time": "2023-08-26T01:42:02.099710Z"
    }
   }
  },
  {
   "cell_type": "markdown",
   "source": [
    "## Model evaluating and testing"
   ],
   "metadata": {
    "collapsed": false
   }
  },
  {
   "cell_type": "code",
   "execution_count": null,
   "outputs": [],
   "source": [],
   "metadata": {
    "collapsed": false
   }
  }
 ],
 "metadata": {
  "kernelspec": {
   "display_name": "Python 3",
   "language": "python",
   "name": "python3"
  },
  "language_info": {
   "codemirror_mode": {
    "name": "ipython",
    "version": 2
   },
   "file_extension": ".py",
   "mimetype": "text/x-python",
   "name": "python",
   "nbconvert_exporter": "python",
   "pygments_lexer": "ipython2",
   "version": "2.7.6"
  }
 },
 "nbformat": 4,
 "nbformat_minor": 0
}
