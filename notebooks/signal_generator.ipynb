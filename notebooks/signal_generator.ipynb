{
 "cells": [
  {
   "cell_type": "code",
   "execution_count": null,
   "metadata": {
    "collapsed": true,
    "ExecuteTime": {
     "start_time": "2023-08-26T01:38:04.220269Z",
     "end_time": "2023-08-26T01:38:04.251533Z"
    }
   },
   "outputs": [],
   "source": [
    "import numpy as np\n",
    "\n",
    "\n",
    "def generate_signal_with_anomalies(freq, num_samples, max_anomalies, max_freq, force_normal=False):\n",
    "    sample_rate = 2 * max_freq\n",
    "    length = num_samples / sample_rate\n",
    "    t = np.linspace(0, length, num_samples)\n",
    "\n",
    "    signal = np.sin(2 * np.pi * freq * t)\n",
    "\n",
    "    if not force_normal:\n",
    "        num_anomalies = np.random.randint(0, max_anomalies + 1)\n",
    "\n",
    "        for _ in range(num_anomalies):\n",
    "            anomaly_start = np.random.randint(0, len(t) // 2 )\n",
    "            anomaly_end = min(anomaly_start + np.random.randint(sample_rate // 2, sample_rate), len(t)-1)\n",
    "            anomaly_type = np.random.choice(['amp', 'freq', 'noise'])\n",
    "\n",
    "            if anomaly_type == 'amp':\n",
    "                signal[anomaly_start:anomaly_end] *= 1.5\n",
    "            elif anomaly_type == 'freq':\n",
    "                signal[anomaly_start:anomaly_end] = np.sin(2 * np.pi * (freq*1.5) * t[anomaly_start:anomaly_end])\n",
    "            elif anomaly_type == 'noise':\n",
    "                signal[anomaly_start:anomaly_end] += np.random.normal(0, 0.5, anomaly_end - anomaly_start)\n",
    "\n",
    "    return signal\n"
   ]
  },
  {
   "cell_type": "code",
   "execution_count": null,
   "outputs": [],
   "source": [
    "num_samples = 25000\n",
    "sample_length = 100\n",
    "\n",
    "min_freq = 10\n",
    "max_freq = 200\n",
    "\n",
    "freq_def = [100]\n",
    "dataset = []\n",
    "\n",
    "for _ in range(num_samples // 2):\n",
    "    freq = np.random.choice(freq_def)\n",
    "    signal = generate_signal_with_anomalies(freq, sample_length, 3, max_freq, force_normal=True)\n",
    "    dataset.append(np.append(signal, 1))\n",
    "\n",
    "for _ in range(num_samples // 2):\n",
    "    freq = np.random.choice(freq_def)\n",
    "    signal = generate_signal_with_anomalies(freq, sample_length, 3, max_freq, force_normal=False)\n",
    "    dataset.append(np.append(signal, 0))\n",
    "\n",
    "np.random.shuffle(dataset)\n",
    "\n",
    "dataset = np.array(dataset)"
   ],
   "metadata": {
    "collapsed": false,
    "ExecuteTime": {
     "start_time": "2023-08-26T01:59:54.219008Z",
     "end_time": "2023-08-26T01:59:57.062901Z"
    }
   }
  },
  {
   "cell_type": "code",
   "execution_count": null,
   "outputs": [],
   "source": [
    "import csv\n",
    "\n",
    "with open('../dataset/signal_25k.csv', 'w', encoding='UTF-8', newline='') as f:\n",
    "    writer = csv.writer(f)\n",
    "    writer.writerows(dataset)"
   ],
   "metadata": {
    "collapsed": false,
    "ExecuteTime": {
     "start_time": "2023-08-26T02:00:00.347243Z",
     "end_time": "2023-08-26T02:00:04.960288Z"
    }
   }
  }
 ],
 "metadata": {
  "kernelspec": {
   "display_name": "Python 3",
   "language": "python",
   "name": "python3"
  },
  "language_info": {
   "codemirror_mode": {
    "name": "ipython",
    "version": 2
   },
   "file_extension": ".py",
   "mimetype": "text/x-python",
   "name": "python",
   "nbconvert_exporter": "python",
   "pygments_lexer": "ipython2",
   "version": "2.7.6"
  }
 },
 "nbformat": 4,
 "nbformat_minor": 0
}
