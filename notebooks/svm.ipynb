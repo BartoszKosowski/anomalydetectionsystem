{
 "cells": [
  {
   "cell_type": "code",
   "execution_count": null,
   "metadata": {
    "collapsed": true,
    "ExecuteTime": {
     "start_time": "2023-08-25T23:16:32.360158Z",
     "end_time": "2023-08-25T23:16:32.372553Z"
    }
   },
   "outputs": [],
   "source": [
    "import pandas as pd\n",
    "import tensorflow as tf\n",
    "from sklearn import svm\n",
    "from sklearn.model_selection import train_test_split"
   ]
  },
  {
   "cell_type": "code",
   "execution_count": null,
   "outputs": [],
   "source": [
    "dataframe = pd.read_csv('../dataset/signal_10k.csv', header=None)\n",
    "raw_data = dataframe.values\n",
    "\n",
    "labels = raw_data[:, -1]\n",
    "data = raw_data[:, 0:-1]\n",
    "\n",
    "train_data, test_data, train_labels, test_labels = train_test_split(data, labels, test_size=0.2, random_state=50)\n",
    "\n",
    "min_val =  tf.reduce_min(raw_data)\n",
    "max_val = tf.reduce_max(raw_data)\n",
    "train_data = (train_data - min_val)/ (max_val - min_val)\n",
    "\n",
    "train_data = tf.cast(train_data, tf.float32)\n",
    "test_data = tf.cast(test_data, tf.float32)\n",
    "\n",
    "train_labels = train_labels.astype(bool)\n",
    "test_labels = test_labels.astype(bool)"
   ],
   "metadata": {
    "collapsed": false,
    "ExecuteTime": {
     "start_time": "2023-08-25T23:16:33.379952Z",
     "end_time": "2023-08-25T23:16:33.676770Z"
    }
   }
  },
  {
   "cell_type": "code",
   "execution_count": null,
   "outputs": [],
   "source": [
    "kernels = ['Polynomial', 'RBF', 'Sigmoid','Linear']\n",
    "def getClassifier(ktype):\n",
    "    if ktype == 0:\n",
    "        return svm.SVC(kernel='poly', degree=8, gamma=\"auto\")\n",
    "    elif ktype == 1:\n",
    "        return svm.SVC(kernel='rbf', gamma=\"auto\")\n",
    "    elif ktype == 2:\n",
    "        return svm.SVC(kernel='sigmoid', gamma=\"auto\")\n",
    "    elif ktype == 3:\n",
    "        return svm.SVC(kernel='linear', gamma=\"auto\")"
   ],
   "metadata": {
    "collapsed": false,
    "ExecuteTime": {
     "start_time": "2023-08-25T23:16:34.723775Z",
     "end_time": "2023-08-25T23:16:34.739402Z"
    }
   }
  },
  {
   "cell_type": "code",
   "execution_count": null,
   "outputs": [],
   "source": [
    "from sklearn.metrics import classification_report\n",
    "\n",
    "for i in range(4):\n",
    "    X_train, X_test, y_train, y_test = train_test_split(data, labels, test_size = 0.20)\n",
    "    svclassifier = getClassifier(i)\n",
    "    svclassifier.fit(X_train, y_train)\n",
    "    y_pred = svclassifier.predict(X_test)\n",
    "    print(\"Evaluation:\", kernels[i], \"kernel\")\n",
    "    print(classification_report(y_test,y_pred))"
   ],
   "metadata": {
    "collapsed": false,
    "ExecuteTime": {
     "start_time": "2023-08-25T23:16:38.974655Z",
     "end_time": "2023-08-25T23:17:00.113521Z"
    }
   }
  },
  {
   "cell_type": "code",
   "execution_count": null,
   "outputs": [],
   "source": [
    "from sklearn.model_selection import GridSearchCV"
   ],
   "metadata": {
    "collapsed": false,
    "ExecuteTime": {
     "start_time": "2023-08-25T23:21:20.468661Z",
     "end_time": "2023-08-25T23:21:20.501873Z"
    }
   }
  },
  {
   "cell_type": "code",
   "execution_count": null,
   "outputs": [],
   "source": [
    "param_grid = {'C': [0.1,1, 10, 100], 'gamma': [1,0.1,0.01,0.001],'kernel': ['rbf', 'poly', 'sigmoid']}"
   ],
   "metadata": {
    "collapsed": false,
    "ExecuteTime": {
     "start_time": "2023-08-25T23:21:21.466711Z",
     "end_time": "2023-08-25T23:21:21.489178Z"
    }
   }
  },
  {
   "cell_type": "code",
   "execution_count": null,
   "outputs": [],
   "source": [
    "grid = GridSearchCV(svm.SVC(),param_grid,refit=True,verbose=2)\n",
    "grid.fit(X_train,y_train)"
   ],
   "metadata": {
    "collapsed": false,
    "ExecuteTime": {
     "start_time": "2023-08-25T23:21:22.059099Z",
     "end_time": "2023-08-25T23:32:09.707945Z"
    }
   }
  },
  {
   "cell_type": "code",
   "execution_count": null,
   "outputs": [],
   "source": [
    "print(grid.best_estimator_)"
   ],
   "metadata": {
    "collapsed": false,
    "ExecuteTime": {
     "start_time": "2023-08-25T23:37:50.257434Z",
     "end_time": "2023-08-25T23:37:50.289129Z"
    }
   }
  },
  {
   "cell_type": "code",
   "execution_count": null,
   "outputs": [],
   "source": [
    "grid_predictions = grid.predict(X_test)"
   ],
   "metadata": {
    "collapsed": false,
    "ExecuteTime": {
     "start_time": "2023-08-25T23:37:52.929390Z",
     "end_time": "2023-08-25T23:37:54.059625Z"
    }
   }
  },
  {
   "cell_type": "code",
   "execution_count": null,
   "outputs": [],
   "source": [
    "print(grid_predictions)"
   ],
   "metadata": {
    "collapsed": false,
    "ExecuteTime": {
     "start_time": "2023-08-23T17:58:56.255246Z",
     "end_time": "2023-08-23T17:58:56.270865Z"
    }
   }
  },
  {
   "cell_type": "code",
   "execution_count": null,
   "outputs": [],
   "source": [
    "print(classification_report(y_test,grid_predictions))"
   ],
   "metadata": {
    "collapsed": false,
    "ExecuteTime": {
     "start_time": "2023-08-22T11:00:08.767596Z",
     "end_time": "2023-08-22T11:00:08.845765Z"
    }
   }
  },
  {
   "cell_type": "markdown",
   "source": [],
   "metadata": {
    "collapsed": false
   }
  },
  {
   "cell_type": "code",
   "execution_count": null,
   "outputs": [],
   "source": [
    "clf = svm.SVC(gamma=1, C=0.1)\n",
    "clf.fit(train_data, train_labels)"
   ],
   "metadata": {
    "collapsed": false,
    "ExecuteTime": {
     "start_time": "2023-08-25T23:40:44.383613Z",
     "end_time": "2023-08-25T23:40:47.130959Z"
    }
   }
  },
  {
   "cell_type": "code",
   "execution_count": null,
   "outputs": [],
   "source": [
    "import numpy as np\n",
    "\n",
    "test_dataframe = pd.read_csv('../dataset/signal_10k_val.csv', header=None)\n",
    "test_raw_data = test_dataframe.values\n",
    "\n",
    "# get last element\n",
    "test_labels = test_raw_data[:, -1]\n",
    "\n",
    "# rest are data\n",
    "test_data = test_raw_data[:, 0:-1]\n",
    "\n",
    "test_data = (test_data - np.min(test_data))/(np.max(test_data) - np.min(test_data))"
   ],
   "metadata": {
    "collapsed": false,
    "ExecuteTime": {
     "start_time": "2023-08-25T23:40:57.499277Z",
     "end_time": "2023-08-25T23:40:57.747573Z"
    }
   }
  },
  {
   "cell_type": "code",
   "execution_count": null,
   "outputs": [],
   "source": [
    "grid_predictions = clf.predict(test_data)"
   ],
   "metadata": {
    "collapsed": false,
    "ExecuteTime": {
     "start_time": "2023-08-25T23:40:58.719574Z",
     "end_time": "2023-08-25T23:41:03.715857Z"
    }
   }
  },
  {
   "cell_type": "code",
   "execution_count": null,
   "outputs": [],
   "source": [
    "print(classification_report(test_labels,grid_predictions))"
   ],
   "metadata": {
    "collapsed": false,
    "ExecuteTime": {
     "start_time": "2023-08-25T23:41:07.460707Z",
     "end_time": "2023-08-25T23:41:07.510054Z"
    }
   }
  },
  {
   "cell_type": "code",
   "execution_count": null,
   "outputs": [],
   "source": [
    "model = svm.SVC(gamma=1, C=0.1)\n",
    "model.fit(X_train, y_train)"
   ],
   "metadata": {
    "collapsed": false,
    "ExecuteTime": {
     "start_time": "2023-08-23T18:03:40.262004Z",
     "end_time": "2023-08-23T18:03:40.450694Z"
    }
   }
  },
  {
   "cell_type": "code",
   "execution_count": null,
   "outputs": [],
   "source": [
    "result = model.predict(test_data)"
   ],
   "metadata": {
    "collapsed": false,
    "ExecuteTime": {
     "start_time": "2023-08-23T18:03:41.165682Z",
     "end_time": "2023-08-23T18:03:42.704406Z"
    }
   }
  },
  {
   "cell_type": "code",
   "execution_count": null,
   "outputs": [],
   "source": [
    "print(classification_report(test_labels, result))"
   ],
   "metadata": {
    "collapsed": false,
    "ExecuteTime": {
     "start_time": "2023-08-23T18:03:43.348253Z",
     "end_time": "2023-08-23T18:03:43.497531Z"
    }
   }
  },
  {
   "cell_type": "code",
   "execution_count": null,
   "outputs": [],
   "source": [
    "correct_samples = 0"
   ],
   "metadata": {
    "collapsed": false,
    "ExecuteTime": {
     "start_time": "2023-08-22T11:11:52.637035Z",
     "end_time": "2023-08-22T11:11:52.652663Z"
    }
   }
  },
  {
   "cell_type": "code",
   "execution_count": null,
   "outputs": [],
   "source": [
    "for i in range(0, len (result)):\n",
    "    if result[i] == test_labels[i]:\n",
    "        correct_samples+=1\n",
    "print(correct_samples/len(result))"
   ],
   "metadata": {
    "collapsed": false,
    "ExecuteTime": {
     "start_time": "2023-08-22T11:11:53.160481Z",
     "end_time": "2023-08-22T11:11:53.219859Z"
    }
   }
  },
  {
   "cell_type": "markdown",
   "source": [
    "## Data Visualisation"
   ],
   "metadata": {
    "collapsed": false
   }
  },
  {
   "cell_type": "code",
   "execution_count": null,
   "outputs": [],
   "source": [
    "import matplotlib.pyplot as plt\n",
    "\n",
    "# Define the x-axis values\n",
    "x = [10000, 25000, 50000, 100000]\n",
    "\n",
    "# Define the y-values for the function\n",
    "y1 = [0.89, 0.89, 0.88, 0.87]\n",
    "\n",
    "# Create the plot\n",
    "plt.figure(figsize=(10,6))\n",
    "\n",
    "# Plot the function\n",
    "plt.plot(x, y1, 'o-', label='Walidacja na zbiorze  statycznym')\n",
    "\n",
    "# Annotate the y-values on the plot for each point\n",
    "for xi, y1i in zip(x, y1):\n",
    "    plt.annotate(f\"{y1i}\", (xi, y1i), textcoords=\"offset points\", xytext=(0,5), ha='center')\n",
    "\n",
    "    # Annotate x-values for each point\n",
    "    plt.annotate(f\"{xi}\", (xi, 0), textcoords=\"offset points\", xytext=(0,10), ha='center', fontsize=9, color='gray')\n",
    "\n",
    "# Set y-limits and x-limits\n",
    "plt.ylim(0, 1)\n",
    "plt.xlim(5000, 110000)\n",
    "\n",
    "# Label the axes\n",
    "plt.xlabel(\"Dokładność modelu\")\n",
    "plt.ylabel(\"Liczba probek treningowych\")\n",
    "\n",
    "# Display the legend in the bottom left with an increased margin from the bottom\n",
    "plt.legend(loc='lower left', bbox_to_anchor=(0, 0.1))\n",
    "\n",
    "# Display the plot\n",
    "plt.grid(True)\n",
    "plt.tight_layout()\n",
    "plt.show()"
   ],
   "metadata": {
    "collapsed": false,
    "ExecuteTime": {
     "start_time": "2023-08-27T20:10:41.411429Z",
     "end_time": "2023-08-27T20:10:42.189314Z"
    }
   }
  },
  {
   "cell_type": "code",
   "execution_count": null,
   "outputs": [],
   "source": [],
   "metadata": {
    "collapsed": false
   }
  }
 ],
 "metadata": {
  "kernelspec": {
   "display_name": "Python 3",
   "language": "python",
   "name": "python3"
  },
  "language_info": {
   "codemirror_mode": {
    "name": "ipython",
    "version": 2
   },
   "file_extension": ".py",
   "mimetype": "text/x-python",
   "name": "python",
   "nbconvert_exporter": "python",
   "pygments_lexer": "ipython2",
   "version": "2.7.6"
  }
 },
 "nbformat": 4,
 "nbformat_minor": 0
}
