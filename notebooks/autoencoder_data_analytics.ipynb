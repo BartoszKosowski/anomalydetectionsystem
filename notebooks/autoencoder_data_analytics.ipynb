{
 "cells": [
  {
   "cell_type": "code",
   "execution_count": null,
   "metadata": {
    "collapsed": true,
    "ExecuteTime": {
     "start_time": "2023-08-26T21:39:20.688231Z",
     "end_time": "2023-08-26T21:39:20.719526Z"
    }
   },
   "outputs": [],
   "source": [
    "import numpy as np\n",
    "\n",
    "from kafka_infra.MongoDbClient import MongoDbClient\n",
    "\n",
    "client = MongoDbClient(\"autoencoder_recognized_samples_signal\")"
   ]
  },
  {
   "cell_type": "code",
   "execution_count": null,
   "outputs": [],
   "source": [
    "domain = np.arange(0.600, 0.8, 0.0005)"
   ],
   "metadata": {
    "collapsed": false,
    "ExecuteTime": {
     "start_time": "2023-08-26T22:38:46.594136Z",
     "end_time": "2023-08-26T22:38:46.611395Z"
    }
   }
  },
  {
   "cell_type": "markdown",
   "source": [
    "Create MongoDb query that returns details about model results"
   ],
   "metadata": {
    "collapsed": false
   }
  },
  {
   "cell_type": "code",
   "execution_count": null,
   "outputs": [],
   "source": [
    "def define_pipeline(x):\n",
    "    pipeline = [\n",
    "        {\n",
    "            \"$lookup\": {\n",
    "                \"from\": \"generated_samples_signal\",\n",
    "                \"localField\": \"sample_id\",\n",
    "                \"foreignField\": \"sample_id\",\n",
    "                \"as\": \"generated_sample_data\"\n",
    "            }\n",
    "        },\n",
    "        {\n",
    "            \"$unwind\": \"$generated_sample_data\"\n",
    "        },\n",
    "        {\n",
    "            \"$project\": {\n",
    "                \"sample_id\": 1,\n",
    "                \"predicted_value\": 1,\n",
    "                \"duration\": 1,\n",
    "                \"normal_data\": \"$generated_sample_data.normal_data\"\n",
    "            }\n",
    "        },\n",
    "        {\n",
    "            \"$facet\": {\n",
    "                \"normal_data_total\": [\n",
    "                    {\n",
    "                        \"$match\": {\n",
    "                            \"normal_data\": 1\n",
    "                        }\n",
    "                    },\n",
    "                    {\n",
    "                        \"$count\": \"count\"\n",
    "                    }\n",
    "                ],\n",
    "                \"normal_data_recognized\": [\n",
    "                    {\n",
    "                        \"$match\": {\n",
    "                            \"normal_data\": 1,\n",
    "                            \"predicted_value\": { \"$lte\": x }\n",
    "                        }\n",
    "                    },\n",
    "                    {\n",
    "                        \"$count\": \"count\"\n",
    "                    }\n",
    "                ],\n",
    "                \"anomalous_data_total\": [\n",
    "                    {\n",
    "                        \"$match\": {\n",
    "                            \"normal_data\": 0\n",
    "                        }\n",
    "                    },\n",
    "                    {\n",
    "                        \"$count\": \"count\"\n",
    "                    }\n",
    "                ],\n",
    "                \"anomalous_data_recognized\": [\n",
    "                    {\n",
    "                        \"$match\": {\n",
    "                            \"normal_data\": 0,\n",
    "                            \"predicted_value\": { \"$gt\": x }\n",
    "                        }\n",
    "                    },\n",
    "                    {\n",
    "                        \"$count\": \"count\"\n",
    "                    }\n",
    "                ]\n",
    "            }\n",
    "        },\n",
    "        {\n",
    "            \"$project\": {\n",
    "                \"normal_data_count\": { \"$arrayElemAt\": [\"$normal_data_total.count\", 0] },\n",
    "                \"correct_recognized_normal_data\": { \"$arrayElemAt\": [\"$normal_data_recognized.count\", 0] },\n",
    "                \"anomalous_data_count\": { \"$arrayElemAt\": [\"$anomalous_data_total.count\", 0] },\n",
    "                \"correct_recognized_anomalous_data\": { \"$arrayElemAt\": [\"$anomalous_data_recognized.count\", 0] }\n",
    "            }\n",
    "        }\n",
    "    ]\n",
    "\n",
    "    return pipeline"
   ],
   "metadata": {
    "collapsed": false,
    "ExecuteTime": {
     "start_time": "2023-08-26T22:38:46.872807Z",
     "end_time": "2023-08-26T22:38:46.914764Z"
    }
   }
  },
  {
   "cell_type": "code",
   "execution_count": null,
   "outputs": [],
   "source": [
    "sample_details = []\n",
    "normal_data_count = -1\n",
    "anomalous_data_count = -1"
   ],
   "metadata": {
    "collapsed": false,
    "ExecuteTime": {
     "start_time": "2023-08-26T22:38:47.281634Z",
     "end_time": "2023-08-26T22:38:47.298077Z"
    }
   }
  },
  {
   "cell_type": "code",
   "execution_count": null,
   "outputs": [],
   "source": [
    "for x in domain:\n",
    "    pipeline = define_pipeline(x)\n",
    "    result = client.aggregate(pipeline)\n",
    "    for doc in result:\n",
    "        if normal_data_count == -1:\n",
    "            normal_data_count = doc['normal_data_count']\n",
    "        if anomalous_data_count == -1:\n",
    "            anomalous_data_count = doc['anomalous_data_count']\n",
    "        try:\n",
    "            doc['correct_recognized_normal_data']\n",
    "        except KeyError:\n",
    "            doc['correct_recognized_normal_data'] = 0\n",
    "        try:\n",
    "            doc['correct_recognized_anomalous_data']\n",
    "        except KeyError:\n",
    "            doc['correct_recognized_anomalous_data'] = 0\n",
    "        sample_details.append({\n",
    "            'factor': x,\n",
    "            'correct_recognized_normal_data': doc['correct_recognized_normal_data'],\n",
    "            'correct_recognized_anomalous_data': doc['correct_recognized_anomalous_data']\n",
    "        })"
   ],
   "metadata": {
    "collapsed": false,
    "ExecuteTime": {
     "start_time": "2023-08-26T22:38:47.667820Z",
     "end_time": "2023-08-26T22:40:11.073384Z"
    }
   }
  },
  {
   "cell_type": "code",
   "execution_count": null,
   "outputs": [],
   "source": [
    "correct_recognized_normal_samples_ratio = []\n",
    "correct_recognized_anomalous_samples_ratio = []\n",
    "correct_recognized_samples_ratio = []\n",
    "\n",
    "for sample in sample_details:\n",
    "    if 0.005 < sample['factor'] < 0.011:\n",
    "        correct_recognized_normal_samples_ratio.append(sample['correct_recognized_normal_data']/normal_data_count)\n",
    "        correct_recognized_anomalous_samples_ratio.append(sample['correct_recognized_anomalous_data']/anomalous_data_count)\n",
    "    else:\n",
    "        correct_recognized_normal_samples_ratio.append(sample['correct_recognized_normal_data']/normal_data_count)\n",
    "        correct_recognized_anomalous_samples_ratio.append(sample['correct_recognized_anomalous_data']/anomalous_data_count)\n",
    "    correct_recognized_samples_ratio.append(((sample['correct_recognized_normal_data'] + sample['correct_recognized_anomalous_data'])/(anomalous_data_count + normal_data_count)))"
   ],
   "metadata": {
    "collapsed": false,
    "ExecuteTime": {
     "start_time": "2023-08-26T22:41:03.844012Z",
     "end_time": "2023-08-26T22:41:03.880876Z"
    }
   }
  },
  {
   "cell_type": "code",
   "execution_count": null,
   "outputs": [],
   "source": [
    "import matplotlib.pyplot as plt\n",
    "\n",
    "plt.plot(domain, correct_recognized_normal_samples_ratio, label='Próbki normalne')\n",
    "plt.plot(domain, correct_recognized_anomalous_samples_ratio, label='Anomalie')\n",
    "plt.xlabel(\"Wartość podziału\")\n",
    "plt.ylabel(\"Procent poprawnie rozpoznanych próbek\")\n",
    "plt.ylim(-0.19, 1.05)\n",
    "plt.legend(loc='lower left')\n",
    "plt.show()"
   ],
   "metadata": {
    "collapsed": false,
    "ExecuteTime": {
     "start_time": "2023-08-26T22:41:04.634417Z",
     "end_time": "2023-08-26T22:41:04.880813Z"
    }
   }
  },
  {
   "cell_type": "markdown",
   "source": [
    "Create function based on value"
   ],
   "metadata": {
    "collapsed": false
   }
  },
  {
   "cell_type": "code",
   "execution_count": null,
   "outputs": [],
   "source": [
    "min_difference = float('inf')\n",
    "for i in range(0, len(correct_recognized_normal_samples_ratio)):\n",
    "\n",
    "    difference = abs(correct_recognized_normal_samples_ratio[i] - correct_recognized_anomalous_samples_ratio[i])\n",
    "\n",
    "    if difference < min_difference:\n",
    "        closest_pair = (correct_recognized_normal_samples_ratio[i], correct_recognized_anomalous_samples_ratio[i])\n",
    "        index = i\n",
    "        min_difference = difference\n",
    "\n",
    "print(index)\n",
    "print(np.mean(closest_pair))"
   ],
   "metadata": {
    "collapsed": false,
    "ExecuteTime": {
     "start_time": "2023-08-26T22:41:26.797687Z",
     "end_time": "2023-08-26T22:41:26.813367Z"
    }
   }
  },
  {
   "cell_type": "code",
   "execution_count": null,
   "outputs": [],
   "source": [
    "print(sample_details[296])"
   ],
   "metadata": {
    "collapsed": false,
    "ExecuteTime": {
     "start_time": "2023-08-26T22:41:33.679315Z",
     "end_time": "2023-08-26T22:41:33.695434Z"
    }
   }
  },
  {
   "cell_type": "code",
   "execution_count": null,
   "outputs": [],
   "source": [
    "print(normal_data_count)\n",
    "print(anomalous_data_count)"
   ],
   "metadata": {
    "collapsed": false,
    "ExecuteTime": {
     "start_time": "2023-08-26T22:41:36.732478Z",
     "end_time": "2023-08-26T22:41:36.751509Z"
    }
   }
  },
  {
   "cell_type": "code",
   "execution_count": null,
   "outputs": [],
   "source": [
    "print((810+135)/1400)"
   ],
   "metadata": {
    "collapsed": false,
    "ExecuteTime": {
     "start_time": "2023-08-26T22:46:10.559990Z",
     "end_time": "2023-08-26T22:46:10.620199Z"
    }
   }
  },
  {
   "cell_type": "code",
   "execution_count": null,
   "outputs": [],
   "source": [
    "print(normal_data_count - 741)\n",
    "print(anomalous_data_count - 169)"
   ],
   "metadata": {
    "collapsed": false,
    "ExecuteTime": {
     "start_time": "2023-08-24T00:59:26.106175Z",
     "end_time": "2023-08-24T00:59:26.121797Z"
    }
   }
  },
  {
   "cell_type": "markdown",
   "source": [
    "swoistość"
   ],
   "metadata": {
    "collapsed": false
   }
  },
  {
   "cell_type": "code",
   "execution_count": null,
   "outputs": [],
   "source": [
    "print(789/1141)"
   ],
   "metadata": {
    "collapsed": false,
    "ExecuteTime": {
     "start_time": "2023-08-23T23:36:17.637416Z",
     "end_time": "2023-08-23T23:36:17.668701Z"
    }
   }
  },
  {
   "cell_type": "code",
   "execution_count": null,
   "outputs": [],
   "source": [
    "print(sample_details[37])"
   ],
   "metadata": {
    "collapsed": false,
    "ExecuteTime": {
     "start_time": "2023-08-24T00:33:24.510288Z",
     "end_time": "2023-08-24T00:33:24.541540Z"
    }
   }
  },
  {
   "cell_type": "code",
   "execution_count": null,
   "outputs": [],
   "source": [
    "np.mean([0.675, 0.702, 0.668])"
   ],
   "metadata": {
    "collapsed": false,
    "ExecuteTime": {
     "start_time": "2023-08-27T00:06:52.584489Z",
     "end_time": "2023-08-27T00:06:52.600151Z"
    }
   }
  },
  {
   "cell_type": "markdown",
   "source": [
    "## Data Visualisation"
   ],
   "metadata": {
    "collapsed": false
   }
  },
  {
   "cell_type": "code",
   "execution_count": null,
   "outputs": [],
   "source": [
    "import pandas as pd\n",
    "import matplotlib.pyplot as plt\n",
    "import numpy as np\n",
    "\n",
    "data = {\n",
    "    'Rok': [1,1,1,2,2,2,3,3,3],\n",
    "    'Produkt': ['ANN', 'Autoenkoder', 'SVM', 'ANN', 'Autoenkoder', 'SVM','ANN', 'Autoenkoder', 'SVM'],\n",
    "    'acc': [0.,0.675,0., 0., 0.681,0., 0.,0.652, 0.],\n",
    "    'recall': [0.,0.675,0.,0., 0.702,0.,0., 0.668, 0.]\n",
    "}\n",
    "df = pd.DataFrame(data)\n",
    "\n",
    "produkty = df['Produkt'].unique()\n",
    "years = df['Rok'].unique()\n",
    "bar_width = 0.25\n",
    "index = np.arange(len(produkty))\n",
    "\n",
    "bar1 = [df[(df['Produkt'] == produkt) & (df['Rok'] == years[0])]['acc'].values[0] for produkt in produkty]\n",
    "bar2 = [df[(df['Produkt'] == produkt) & (df['Rok'] == years[1])]['acc'].values[0] for produkt in produkty]\n",
    "bar3 = [df[(df['Produkt'] == produkt) & (df['Rok'] == years[2])]['acc'].values[0] for produkt in produkty]\n",
    "\n",
    "plt.bar(index, bar1, bar_width, label='Strumień '+str(years[0]))\n",
    "plt.bar(index + bar_width, bar2, bar_width, label='Strumień '+str(years[1]))\n",
    "plt.bar(index + 2*bar_width, bar3, bar_width, label='Strumień '+str(years[2]))\n",
    "plt.ylim(0,1)\n",
    "plt.xlabel('Model')\n",
    "plt.ylabel('Współczynnik dokładności')\n",
    "plt.xticks(index + bar_width / 2, produkty)\n",
    "plt.legend()\n",
    "\n",
    "plt.tight_layout()\n",
    "plt.show()"
   ],
   "metadata": {
    "collapsed": false,
    "ExecuteTime": {
     "start_time": "2023-08-26T23:54:17.514276Z",
     "end_time": "2023-08-26T23:54:17.713960Z"
    }
   }
  },
  {
   "cell_type": "code",
   "execution_count": null,
   "outputs": [],
   "source": [
    "durations = client.find({'duration': 1, '_id': 0})"
   ],
   "metadata": {
    "collapsed": false,
    "ExecuteTime": {
     "start_time": "2023-08-27T00:14:59.483341Z",
     "end_time": "2023-08-27T00:14:59.513853Z"
    }
   }
  },
  {
   "cell_type": "code",
   "execution_count": null,
   "outputs": [],
   "source": [
    "values = []\n",
    "for doc in durations:\n",
    "    print(doc['duration'])\n",
    "    values.append(doc['duration'])"
   ],
   "metadata": {
    "collapsed": false,
    "ExecuteTime": {
     "start_time": "2023-08-27T00:15:03.256749Z",
     "end_time": "2023-08-27T00:15:04.470851Z"
    }
   }
  },
  {
   "cell_type": "code",
   "execution_count": null,
   "outputs": [],
   "source": [
    "import numpy as np\n",
    "import matplotlib.pyplot as plt\n",
    "\n",
    "data = [np.random.randint(0, 141) for _ in range(1400)]\n",
    "\n",
    "bins = list(range(0, 151, 10))\n",
    "\n",
    "hist, edges = np.histogram(values, bins=bins)\n",
    "\n",
    "plt.figure(figsize=(15, 6))\n",
    "plt.bar(edges[:-1], hist, width=9)\n",
    "\n",
    "plt.xlabel(\"Czas przetwarzania\")\n",
    "plt.ylabel(\"Liczba obserwacji\")\n",
    "plt.title('Autoenkoder')\n",
    "plt.xticks(edges, labels=[f\"{int(edge)}-{int(edge + 9)}\" for edge in edges[:-1]])\n",
    "\n",
    "plt.grid(axis='y')\n",
    "plt.tight_layout()\n",
    "plt.show()"
   ],
   "metadata": {
    "collapsed": false
   }
  },
  {
   "cell_type": "code",
   "execution_count": null,
   "outputs": [],
   "source": [
    "np.mean(values)"
   ],
   "metadata": {
    "collapsed": false,
    "ExecuteTime": {
     "start_time": "2023-08-27T00:31:23.038157Z",
     "end_time": "2023-08-27T00:31:23.088791Z"
    }
   }
  },
  {
   "cell_type": "code",
   "execution_count": null,
   "outputs": [],
   "source": [],
   "metadata": {
    "collapsed": false
   }
  }
 ],
 "metadata": {
  "kernelspec": {
   "display_name": "Python 3",
   "language": "python",
   "name": "python3"
  },
  "language_info": {
   "codemirror_mode": {
    "name": "ipython",
    "version": 2
   },
   "file_extension": ".py",
   "mimetype": "text/x-python",
   "name": "python",
   "nbconvert_exporter": "python",
   "pygments_lexer": "ipython2",
   "version": "2.7.6"
  }
 },
 "nbformat": 4,
 "nbformat_minor": 0
}
