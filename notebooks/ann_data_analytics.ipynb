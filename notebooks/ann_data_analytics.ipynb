{
 "cells": [
  {
   "cell_type": "code",
   "execution_count": 1,
   "metadata": {
    "collapsed": true,
    "ExecuteTime": {
     "start_time": "2023-08-19T19:43:06.334339Z",
     "end_time": "2023-08-19T19:43:07.090973Z"
    }
   },
   "outputs": [],
   "source": [
    "import numpy as np\n",
    "\n",
    "from kafka_infra.MongoDbClient import MongoDbClient\n",
    "\n",
    "client = MongoDbClient(\"ann_recognized_samples\")"
   ]
  },
  {
   "cell_type": "code",
   "execution_count": 8,
   "outputs": [],
   "source": [
    "domain = np.arange(0,1,0.01)"
   ],
   "metadata": {
    "collapsed": false,
    "ExecuteTime": {
     "start_time": "2023-08-19T19:45:59.786000Z",
     "end_time": "2023-08-19T19:45:59.807004Z"
    }
   }
  },
  {
   "cell_type": "code",
   "execution_count": 9,
   "outputs": [
    {
     "name": "stdout",
     "output_type": "stream",
     "text": [
      "[0.   0.01 0.02 0.03 0.04 0.05 0.06 0.07 0.08 0.09 0.1  0.11 0.12 0.13\n",
      " 0.14 0.15 0.16 0.17 0.18 0.19 0.2  0.21 0.22 0.23 0.24 0.25 0.26 0.27\n",
      " 0.28 0.29 0.3  0.31 0.32 0.33 0.34 0.35 0.36 0.37 0.38 0.39 0.4  0.41\n",
      " 0.42 0.43 0.44 0.45 0.46 0.47 0.48 0.49 0.5  0.51 0.52 0.53 0.54 0.55\n",
      " 0.56 0.57 0.58 0.59 0.6  0.61 0.62 0.63 0.64 0.65 0.66 0.67 0.68 0.69\n",
      " 0.7  0.71 0.72 0.73 0.74 0.75 0.76 0.77 0.78 0.79 0.8  0.81 0.82 0.83\n",
      " 0.84 0.85 0.86 0.87 0.88 0.89 0.9  0.91 0.92 0.93 0.94 0.95 0.96 0.97\n",
      " 0.98 0.99]\n"
     ]
    }
   ],
   "source": [
    "print(domain)"
   ],
   "metadata": {
    "collapsed": false,
    "ExecuteTime": {
     "start_time": "2023-08-19T19:46:00.677999Z",
     "end_time": "2023-08-19T19:46:00.695999Z"
    }
   }
  },
  {
   "cell_type": "code",
   "execution_count": 10,
   "outputs": [],
   "source": [
    "def define_pipeline(x):\n",
    "    pipeline = [\n",
    "        {\n",
    "            \"$lookup\": {\n",
    "                \"from\": \"generated_samples\",\n",
    "                \"localField\": \"sample_id\",\n",
    "                \"foreignField\": \"sample_id\",\n",
    "                \"as\": \"generated_sample_data\"\n",
    "            }\n",
    "        },\n",
    "        {\n",
    "            \"$unwind\": \"$generated_sample_data\"\n",
    "        },\n",
    "        {\n",
    "            \"$project\": {\n",
    "                \"sample_id\": 1,\n",
    "                \"predicted_value\": 1,\n",
    "                \"duration\": 1,\n",
    "                \"normal_data\": \"$generated_sample_data.normal_data\"\n",
    "            }\n",
    "        },\n",
    "        {\n",
    "            \"$facet\": {\n",
    "                \"normal_data_total\": [\n",
    "                    {\n",
    "                        \"$match\": {\n",
    "                            \"normal_data\": 1\n",
    "                        }\n",
    "                    },\n",
    "                    {\n",
    "                        \"$count\": \"count\"\n",
    "                    }\n",
    "                ],\n",
    "                \"normal_data_recognized\": [\n",
    "                    {\n",
    "                        \"$match\": {\n",
    "                            \"normal_data\": 1,\n",
    "                            \"predicted_value\": { \"$gte\": x }\n",
    "                        }\n",
    "                    },\n",
    "                    {\n",
    "                        \"$count\": \"count\"\n",
    "                    }\n",
    "                ],\n",
    "                \"anomalous_data_total\": [\n",
    "                    {\n",
    "                        \"$match\": {\n",
    "                            \"normal_data\": 0\n",
    "                        }\n",
    "                    },\n",
    "                    {\n",
    "                        \"$count\": \"count\"\n",
    "                    }\n",
    "                ],\n",
    "                \"anomalous_data_recognized\": [\n",
    "                    {\n",
    "                        \"$match\": {\n",
    "                            \"normal_data\": 0,\n",
    "                            \"predicted_value\": { \"$lt\": x }\n",
    "                        }\n",
    "                    },\n",
    "                    {\n",
    "                        \"$count\": \"count\"\n",
    "                    }\n",
    "                ]\n",
    "            }\n",
    "        },\n",
    "        {\n",
    "            \"$project\": {\n",
    "                \"normal_data_count\": { \"$arrayElemAt\": [\"$normal_data_total.count\", 0] },\n",
    "                \"correct_recognized_normal_data\": { \"$arrayElemAt\": [\"$normal_data_recognized.count\", 0] },\n",
    "                \"anomalous_data_count\": { \"$arrayElemAt\": [\"$anomalous_data_total.count\", 0] },\n",
    "                \"correct_recognized_anomalous_data\": { \"$arrayElemAt\": [\"$anomalous_data_recognized.count\", 0] }\n",
    "            }\n",
    "        }\n",
    "    ]\n",
    "\n",
    "    return pipeline"
   ],
   "metadata": {
    "collapsed": false,
    "ExecuteTime": {
     "start_time": "2023-08-19T19:46:03.814615Z",
     "end_time": "2023-08-19T19:46:03.828606Z"
    }
   }
  },
  {
   "cell_type": "code",
   "execution_count": 11,
   "outputs": [],
   "source": [
    "sample_details = []\n",
    "normal_data_count = -1\n",
    "anomalous_data_count = -1"
   ],
   "metadata": {
    "collapsed": false,
    "ExecuteTime": {
     "start_time": "2023-08-19T19:46:04.585607Z",
     "end_time": "2023-08-19T19:46:04.596640Z"
    }
   }
  },
  {
   "cell_type": "code",
   "execution_count": 12,
   "outputs": [],
   "source": [
    "for x in domain:\n",
    "    pipeline = define_pipeline(x)\n",
    "    result = client.aggregate(pipeline)\n",
    "    for doc in result:\n",
    "        if normal_data_count == -1:\n",
    "            normal_data_count = doc['normal_data_count']\n",
    "        if anomalous_data_count == -1:\n",
    "            anomalous_data_count = doc['anomalous_data_count']\n",
    "        try:\n",
    "            doc['correct_recognized_normal_data']\n",
    "        except KeyError:\n",
    "            doc['correct_recognized_normal_data'] = 0\n",
    "        try:\n",
    "            doc['correct_recognized_anomalous_data']\n",
    "        except KeyError:\n",
    "            doc['correct_recognized_anomalous_data'] = 0\n",
    "        sample_details.append({\n",
    "            'factor': x,\n",
    "            'correct_recognized_normal_data': doc['correct_recognized_normal_data'],\n",
    "            'correct_recognized_anomalous_data': doc['correct_recognized_anomalous_data']\n",
    "        })"
   ],
   "metadata": {
    "collapsed": false,
    "ExecuteTime": {
     "start_time": "2023-08-19T19:46:05.273607Z",
     "end_time": "2023-08-19T19:46:27.229275Z"
    }
   }
  },
  {
   "cell_type": "code",
   "execution_count": 13,
   "outputs": [
    {
     "name": "stdout",
     "output_type": "stream",
     "text": [
      "[{'factor': 0.0, 'correct_recognized_normal_data': 814, 'correct_recognized_anomalous_data': 0}, {'factor': 0.01, 'correct_recognized_normal_data': 814, 'correct_recognized_anomalous_data': 0}, {'factor': 0.02, 'correct_recognized_normal_data': 814, 'correct_recognized_anomalous_data': 0}, {'factor': 0.03, 'correct_recognized_normal_data': 812, 'correct_recognized_anomalous_data': 0}, {'factor': 0.04, 'correct_recognized_normal_data': 807, 'correct_recognized_anomalous_data': 0}, {'factor': 0.05, 'correct_recognized_normal_data': 800, 'correct_recognized_anomalous_data': 1}, {'factor': 0.06, 'correct_recognized_normal_data': 784, 'correct_recognized_anomalous_data': 9}, {'factor': 0.07, 'correct_recognized_normal_data': 763, 'correct_recognized_anomalous_data': 12}, {'factor': 0.08, 'correct_recognized_normal_data': 749, 'correct_recognized_anomalous_data': 13}, {'factor': 0.09, 'correct_recognized_normal_data': 719, 'correct_recognized_anomalous_data': 15}, {'factor': 0.1, 'correct_recognized_normal_data': 701, 'correct_recognized_anomalous_data': 22}, {'factor': 0.11, 'correct_recognized_normal_data': 685, 'correct_recognized_anomalous_data': 24}, {'factor': 0.12, 'correct_recognized_normal_data': 666, 'correct_recognized_anomalous_data': 27}, {'factor': 0.13, 'correct_recognized_normal_data': 645, 'correct_recognized_anomalous_data': 28}, {'factor': 0.14, 'correct_recognized_normal_data': 629, 'correct_recognized_anomalous_data': 29}, {'factor': 0.15, 'correct_recognized_normal_data': 617, 'correct_recognized_anomalous_data': 31}, {'factor': 0.16, 'correct_recognized_normal_data': 600, 'correct_recognized_anomalous_data': 33}, {'factor': 0.17, 'correct_recognized_normal_data': 587, 'correct_recognized_anomalous_data': 37}, {'factor': 0.18, 'correct_recognized_normal_data': 571, 'correct_recognized_anomalous_data': 38}, {'factor': 0.19, 'correct_recognized_normal_data': 564, 'correct_recognized_anomalous_data': 41}, {'factor': 0.2, 'correct_recognized_normal_data': 549, 'correct_recognized_anomalous_data': 43}, {'factor': 0.21, 'correct_recognized_normal_data': 527, 'correct_recognized_anomalous_data': 45}, {'factor': 0.22, 'correct_recognized_normal_data': 519, 'correct_recognized_anomalous_data': 48}, {'factor': 0.23, 'correct_recognized_normal_data': 509, 'correct_recognized_anomalous_data': 49}, {'factor': 0.24, 'correct_recognized_normal_data': 500, 'correct_recognized_anomalous_data': 54}, {'factor': 0.25, 'correct_recognized_normal_data': 488, 'correct_recognized_anomalous_data': 56}, {'factor': 0.26, 'correct_recognized_normal_data': 482, 'correct_recognized_anomalous_data': 59}, {'factor': 0.27, 'correct_recognized_normal_data': 475, 'correct_recognized_anomalous_data': 61}, {'factor': 0.28, 'correct_recognized_normal_data': 468, 'correct_recognized_anomalous_data': 61}, {'factor': 0.29, 'correct_recognized_normal_data': 463, 'correct_recognized_anomalous_data': 63}, {'factor': 0.3, 'correct_recognized_normal_data': 457, 'correct_recognized_anomalous_data': 64}, {'factor': 0.31, 'correct_recognized_normal_data': 452, 'correct_recognized_anomalous_data': 66}, {'factor': 0.32, 'correct_recognized_normal_data': 450, 'correct_recognized_anomalous_data': 67}, {'factor': 0.33, 'correct_recognized_normal_data': 440, 'correct_recognized_anomalous_data': 70}, {'factor': 0.34, 'correct_recognized_normal_data': 427, 'correct_recognized_anomalous_data': 71}, {'factor': 0.35000000000000003, 'correct_recognized_normal_data': 421, 'correct_recognized_anomalous_data': 73}, {'factor': 0.36, 'correct_recognized_normal_data': 415, 'correct_recognized_anomalous_data': 74}, {'factor': 0.37, 'correct_recognized_normal_data': 410, 'correct_recognized_anomalous_data': 74}, {'factor': 0.38, 'correct_recognized_normal_data': 402, 'correct_recognized_anomalous_data': 74}, {'factor': 0.39, 'correct_recognized_normal_data': 398, 'correct_recognized_anomalous_data': 74}, {'factor': 0.4, 'correct_recognized_normal_data': 393, 'correct_recognized_anomalous_data': 75}, {'factor': 0.41000000000000003, 'correct_recognized_normal_data': 387, 'correct_recognized_anomalous_data': 76}, {'factor': 0.42, 'correct_recognized_normal_data': 381, 'correct_recognized_anomalous_data': 76}, {'factor': 0.43, 'correct_recognized_normal_data': 376, 'correct_recognized_anomalous_data': 77}, {'factor': 0.44, 'correct_recognized_normal_data': 369, 'correct_recognized_anomalous_data': 77}, {'factor': 0.45, 'correct_recognized_normal_data': 368, 'correct_recognized_anomalous_data': 80}, {'factor': 0.46, 'correct_recognized_normal_data': 363, 'correct_recognized_anomalous_data': 81}, {'factor': 0.47000000000000003, 'correct_recognized_normal_data': 361, 'correct_recognized_anomalous_data': 82}, {'factor': 0.48, 'correct_recognized_normal_data': 356, 'correct_recognized_anomalous_data': 82}, {'factor': 0.49, 'correct_recognized_normal_data': 353, 'correct_recognized_anomalous_data': 82}, {'factor': 0.5, 'correct_recognized_normal_data': 350, 'correct_recognized_anomalous_data': 83}, {'factor': 0.51, 'correct_recognized_normal_data': 349, 'correct_recognized_anomalous_data': 84}, {'factor': 0.52, 'correct_recognized_normal_data': 345, 'correct_recognized_anomalous_data': 84}, {'factor': 0.53, 'correct_recognized_normal_data': 340, 'correct_recognized_anomalous_data': 85}, {'factor': 0.54, 'correct_recognized_normal_data': 336, 'correct_recognized_anomalous_data': 85}, {'factor': 0.55, 'correct_recognized_normal_data': 333, 'correct_recognized_anomalous_data': 85}, {'factor': 0.56, 'correct_recognized_normal_data': 330, 'correct_recognized_anomalous_data': 87}, {'factor': 0.5700000000000001, 'correct_recognized_normal_data': 329, 'correct_recognized_anomalous_data': 87}, {'factor': 0.58, 'correct_recognized_normal_data': 323, 'correct_recognized_anomalous_data': 90}, {'factor': 0.59, 'correct_recognized_normal_data': 322, 'correct_recognized_anomalous_data': 91}, {'factor': 0.6, 'correct_recognized_normal_data': 319, 'correct_recognized_anomalous_data': 91}, {'factor': 0.61, 'correct_recognized_normal_data': 317, 'correct_recognized_anomalous_data': 93}, {'factor': 0.62, 'correct_recognized_normal_data': 317, 'correct_recognized_anomalous_data': 94}, {'factor': 0.63, 'correct_recognized_normal_data': 313, 'correct_recognized_anomalous_data': 94}, {'factor': 0.64, 'correct_recognized_normal_data': 310, 'correct_recognized_anomalous_data': 97}, {'factor': 0.65, 'correct_recognized_normal_data': 307, 'correct_recognized_anomalous_data': 98}, {'factor': 0.66, 'correct_recognized_normal_data': 303, 'correct_recognized_anomalous_data': 99}, {'factor': 0.67, 'correct_recognized_normal_data': 297, 'correct_recognized_anomalous_data': 99}, {'factor': 0.68, 'correct_recognized_normal_data': 289, 'correct_recognized_anomalous_data': 103}, {'factor': 0.6900000000000001, 'correct_recognized_normal_data': 286, 'correct_recognized_anomalous_data': 103}, {'factor': 0.7000000000000001, 'correct_recognized_normal_data': 282, 'correct_recognized_anomalous_data': 105}, {'factor': 0.71, 'correct_recognized_normal_data': 276, 'correct_recognized_anomalous_data': 105}, {'factor': 0.72, 'correct_recognized_normal_data': 272, 'correct_recognized_anomalous_data': 107}, {'factor': 0.73, 'correct_recognized_normal_data': 268, 'correct_recognized_anomalous_data': 108}, {'factor': 0.74, 'correct_recognized_normal_data': 265, 'correct_recognized_anomalous_data': 109}, {'factor': 0.75, 'correct_recognized_normal_data': 262, 'correct_recognized_anomalous_data': 109}, {'factor': 0.76, 'correct_recognized_normal_data': 255, 'correct_recognized_anomalous_data': 111}, {'factor': 0.77, 'correct_recognized_normal_data': 251, 'correct_recognized_anomalous_data': 112}, {'factor': 0.78, 'correct_recognized_normal_data': 246, 'correct_recognized_anomalous_data': 112}, {'factor': 0.79, 'correct_recognized_normal_data': 241, 'correct_recognized_anomalous_data': 113}, {'factor': 0.8, 'correct_recognized_normal_data': 236, 'correct_recognized_anomalous_data': 114}, {'factor': 0.81, 'correct_recognized_normal_data': 227, 'correct_recognized_anomalous_data': 116}, {'factor': 0.8200000000000001, 'correct_recognized_normal_data': 220, 'correct_recognized_anomalous_data': 117}, {'factor': 0.8300000000000001, 'correct_recognized_normal_data': 213, 'correct_recognized_anomalous_data': 117}, {'factor': 0.84, 'correct_recognized_normal_data': 207, 'correct_recognized_anomalous_data': 117}, {'factor': 0.85, 'correct_recognized_normal_data': 193, 'correct_recognized_anomalous_data': 120}, {'factor': 0.86, 'correct_recognized_normal_data': 180, 'correct_recognized_anomalous_data': 121}, {'factor': 0.87, 'correct_recognized_normal_data': 175, 'correct_recognized_anomalous_data': 123}, {'factor': 0.88, 'correct_recognized_normal_data': 166, 'correct_recognized_anomalous_data': 129}, {'factor': 0.89, 'correct_recognized_normal_data': 160, 'correct_recognized_anomalous_data': 132}, {'factor': 0.9, 'correct_recognized_normal_data': 154, 'correct_recognized_anomalous_data': 133}, {'factor': 0.91, 'correct_recognized_normal_data': 145, 'correct_recognized_anomalous_data': 134}, {'factor': 0.92, 'correct_recognized_normal_data': 136, 'correct_recognized_anomalous_data': 136}, {'factor': 0.93, 'correct_recognized_normal_data': 123, 'correct_recognized_anomalous_data': 137}, {'factor': 0.9400000000000001, 'correct_recognized_normal_data': 110, 'correct_recognized_anomalous_data': 139}, {'factor': 0.9500000000000001, 'correct_recognized_normal_data': 92, 'correct_recognized_anomalous_data': 143}, {'factor': 0.96, 'correct_recognized_normal_data': 83, 'correct_recognized_anomalous_data': 148}, {'factor': 0.97, 'correct_recognized_normal_data': 61, 'correct_recognized_anomalous_data': 152}, {'factor': 0.98, 'correct_recognized_normal_data': 45, 'correct_recognized_anomalous_data': 159}, {'factor': 0.99, 'correct_recognized_normal_data': 14, 'correct_recognized_anomalous_data': 174}]\n",
      "[1.0, 1.0, 1.0, 0.9975429975429976, 0.9914004914004914, 0.9828009828009828, 0.9631449631449631, 0.9373464373464373, 0.9201474201474201, 0.8832923832923832, 0.8611793611793612, 0.8415233415233415, 0.8181818181818182, 0.7923832923832924, 0.7727272727272727, 0.757985257985258, 0.7371007371007371, 0.7211302211302212, 0.7014742014742015, 0.6928746928746928, 0.6744471744471745, 0.6474201474201474, 0.6375921375921376, 0.6253071253071253, 0.6142506142506142, 0.5995085995085995, 0.5921375921375921, 0.5835380835380836, 0.5749385749385749, 0.5687960687960688, 0.5614250614250614, 0.5552825552825553, 0.5528255528255528, 0.5405405405405406, 0.5245700245700246, 0.5171990171990172, 0.5098280098280098, 0.5036855036855037, 0.49385749385749383, 0.48894348894348894, 0.4828009828009828, 0.47542997542997545, 0.4680589680589681, 0.4619164619164619, 0.4533169533169533, 0.4520884520884521, 0.44594594594594594, 0.44348894348894347, 0.43734643734643736, 0.43366093366093367, 0.42997542997543, 0.42874692874692877, 0.4238329238329238, 0.4176904176904177, 0.41277641277641275, 0.4090909090909091, 0.40540540540540543, 0.40417690417690416, 0.3968058968058968, 0.3955773955773956, 0.3918918918918919, 0.3894348894348894, 0.3894348894348894, 0.3845208845208845, 0.3808353808353808, 0.37714987714987713, 0.37223587223587223, 0.36486486486486486, 0.35503685503685506, 0.35135135135135137, 0.3464373464373464, 0.33906633906633904, 0.33415233415233414, 0.32923832923832924, 0.32555282555282555, 0.32186732186732187, 0.3132678132678133, 0.3083538083538084, 0.3022113022113022, 0.29606879606879605, 0.28992628992628994, 0.2788697788697789, 0.2702702702702703, 0.2616707616707617, 0.2542997542997543, 0.2371007371007371, 0.22113022113022113, 0.214987714987715, 0.20393120393120392, 0.19656019656019655, 0.1891891891891892, 0.17813267813267813, 0.16707616707616707, 0.1511056511056511, 0.13513513513513514, 0.11302211302211303, 0.10196560196560196, 0.07493857493857493, 0.05528255528255528, 0.0171990171990172]\n"
     ]
    }
   ],
   "source": [
    "print(sample_details)\n",
    "correct_recognized_normal_samples_ratio = []\n",
    "correct_recognized_anomalous_samples_ratio = []\n",
    "\n",
    "for sample in sample_details:\n",
    "    correct_recognized_normal_samples_ratio.append(sample['correct_recognized_normal_data'] / normal_data_count)\n",
    "    correct_recognized_anomalous_samples_ratio.append(\n",
    "        sample['correct_recognized_anomalous_data'] / anomalous_data_count)\n",
    "\n",
    "print(correct_recognized_normal_samples_ratio)"
   ],
   "metadata": {
    "collapsed": false,
    "ExecuteTime": {
     "start_time": "2023-08-19T19:46:31.349274Z",
     "end_time": "2023-08-19T19:46:31.388313Z"
    }
   }
  },
  {
   "cell_type": "code",
   "execution_count": 14,
   "outputs": [
    {
     "data": {
      "text/plain": "<Figure size 640x480 with 1 Axes>",
      "image/png": "[encoded data removed]"
     },
     "metadata": {},
     "output_type": "display_data"
    }
   ],
   "source": [
    "import matplotlib.pyplot as plt\n",
    "\n",
    "plt.plot(domain, correct_recognized_normal_samples_ratio, 'g')\n",
    "plt.plot(domain, correct_recognized_anomalous_samples_ratio, 'y')\n",
    "plt.show()"
   ],
   "metadata": {
    "collapsed": false,
    "ExecuteTime": {
     "start_time": "2023-08-19T19:46:33.011921Z",
     "end_time": "2023-08-19T19:46:33.842918Z"
    }
   }
  },
  {
   "cell_type": "code",
   "execution_count": 17,
   "outputs": [
    {
     "data": {
      "text/plain": "<Figure size 640x480 with 1 Axes>",
      "image/png": "[encoded data removed]"
     },
     "metadata": {},
     "output_type": "display_data"
    }
   ],
   "source": [
    "plt.plot(domain, correct_recognized_normal_samples_ratio, 'g')\n",
    "plt.plot(domain, correct_recognized_anomalous_samples_ratio, 'y')\n",
    "plt.xlim(0.4, 0.5)\n",
    "plt.show()"
   ],
   "metadata": {
    "collapsed": false,
    "ExecuteTime": {
     "start_time": "2023-08-19T19:47:30.690917Z",
     "end_time": "2023-08-19T19:47:30.874916Z"
    }
   }
  },
  {
   "cell_type": "code",
   "execution_count": 19,
   "outputs": [
    {
     "name": "stdout",
     "output_type": "stream",
     "text": [
      "45\n",
      "0.449507913195064\n"
     ]
    }
   ],
   "source": [
    "min_difference = float('inf')\n",
    "for i in range(0, len(correct_recognized_normal_samples_ratio)):\n",
    "    # Compute the absolute difference between the current pair of values\n",
    "    difference = abs(correct_recognized_normal_samples_ratio[i] - correct_recognized_anomalous_samples_ratio[i])\n",
    "\n",
    "    # Check if this pair is closer than the previously found closest pair\n",
    "    if difference < min_difference:\n",
    "        # If so, update the closest pair and the minimum difference\n",
    "        closest_pair = (correct_recognized_normal_samples_ratio[i], correct_recognized_anomalous_samples_ratio[i])\n",
    "        index = i\n",
    "        min_difference = difference\n",
    "\n",
    "print(index)\n",
    "print(np.mean(closest_pair))"
   ],
   "metadata": {
    "collapsed": false,
    "ExecuteTime": {
     "start_time": "2023-08-19T20:31:02.774519Z",
     "end_time": "2023-08-19T20:31:02.800516Z"
    }
   }
  },
  {
   "cell_type": "code",
   "execution_count": null,
   "outputs": [],
   "source": [],
   "metadata": {
    "collapsed": false
   }
  }
 ],
 "metadata": {
  "kernelspec": {
   "display_name": "Python 3",
   "language": "python",
   "name": "python3"
  },
  "language_info": {
   "codemirror_mode": {
    "name": "ipython",
    "version": 2
   },
   "file_extension": ".py",
   "mimetype": "text/x-python",
   "name": "python",
   "nbconvert_exporter": "python",
   "pygments_lexer": "ipython2",
   "version": "2.7.6"
  }
 },
 "nbformat": 4,
 "nbformat_minor": 0
}
