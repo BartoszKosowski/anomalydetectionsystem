{
 "cells": [
  {
   "cell_type": "code",
   "execution_count": 1,
   "metadata": {
    "collapsed": true,
    "ExecuteTime": {
     "start_time": "2023-08-25T12:57:22.171595Z",
     "end_time": "2023-08-25T12:57:22.843899Z"
    }
   },
   "outputs": [],
   "source": [
    "import numpy as np\n",
    "\n",
    "from kafka_infra.MongoDbClient import MongoDbClient\n",
    "\n",
    "client = MongoDbClient(\"ann\")"
   ]
  },
  {
   "cell_type": "code",
   "execution_count": 2,
   "outputs": [],
   "source": [
    "domain = np.arange(0,1,0.01)"
   ],
   "metadata": {
    "collapsed": false,
    "ExecuteTime": {
     "start_time": "2023-08-25T12:57:27.307283Z",
     "end_time": "2023-08-25T12:57:27.331433Z"
    }
   }
  },
  {
   "cell_type": "code",
   "execution_count": 3,
   "outputs": [],
   "source": [
    "def define_pipeline(x):\n",
    "    pipeline = [\n",
    "        {\n",
    "            \"$lookup\": {\n",
    "                \"from\": \"generated_samples_st\",\n",
    "                \"localField\": \"sample_id\",\n",
    "                \"foreignField\": \"sample_id\",\n",
    "                \"as\": \"generated_sample_data\"\n",
    "            }\n",
    "        },\n",
    "        {\n",
    "            \"$unwind\": \"$generated_sample_data\"\n",
    "        },\n",
    "        {\n",
    "            \"$project\": {\n",
    "                \"sample_id\": 1,\n",
    "                \"predicted_value\": 1,\n",
    "                \"duration\": 1,\n",
    "                \"normal_data\": \"$generated_sample_data.normal_data\"\n",
    "            }\n",
    "        },\n",
    "        {\n",
    "            \"$facet\": {\n",
    "                \"normal_data_total\": [\n",
    "                    {\n",
    "                        \"$match\": {\n",
    "                            \"normal_data\": 1\n",
    "                        }\n",
    "                    },\n",
    "                    {\n",
    "                        \"$count\": \"count\"\n",
    "                    }\n",
    "                ],\n",
    "                \"normal_data_recognized\": [\n",
    "                    {\n",
    "                        \"$match\": {\n",
    "                            \"normal_data\": 1,\n",
    "                            \"predicted_value\": { \"$gte\": x }\n",
    "                        }\n",
    "                    },\n",
    "                    {\n",
    "                        \"$count\": \"count\"\n",
    "                    }\n",
    "                ],\n",
    "                \"anomalous_data_total\": [\n",
    "                    {\n",
    "                        \"$match\": {\n",
    "                            \"normal_data\": 0\n",
    "                        }\n",
    "                    },\n",
    "                    {\n",
    "                        \"$count\": \"count\"\n",
    "                    }\n",
    "                ],\n",
    "                \"anomalous_data_recognized\": [\n",
    "                    {\n",
    "                        \"$match\": {\n",
    "                            \"normal_data\": 0,\n",
    "                            \"predicted_value\": { \"$lt\": x }\n",
    "                        }\n",
    "                    },\n",
    "                    {\n",
    "                        \"$count\": \"count\"\n",
    "                    }\n",
    "                ]\n",
    "            }\n",
    "        },\n",
    "        {\n",
    "            \"$project\": {\n",
    "                \"normal_data_count\": { \"$arrayElemAt\": [\"$normal_data_total.count\", 0] },\n",
    "                \"correct_recognized_normal_data\": { \"$arrayElemAt\": [\"$normal_data_recognized.count\", 0] },\n",
    "                \"anomalous_data_count\": { \"$arrayElemAt\": [\"$anomalous_data_total.count\", 0] },\n",
    "                \"correct_recognized_anomalous_data\": { \"$arrayElemAt\": [\"$anomalous_data_recognized.count\", 0] }\n",
    "            }\n",
    "        }\n",
    "    ]\n",
    "\n",
    "    return pipeline"
   ],
   "metadata": {
    "collapsed": false,
    "ExecuteTime": {
     "start_time": "2023-08-24T22:24:10.296650Z",
     "end_time": "2023-08-24T22:24:10.316739Z"
    }
   }
  },
  {
   "cell_type": "code",
   "execution_count": 12,
   "outputs": [],
   "source": [
    "durations = client.find({'duration': 1, '_id': 0})"
   ],
   "metadata": {
    "collapsed": false,
    "ExecuteTime": {
     "start_time": "2023-08-25T13:15:19.795159Z",
     "end_time": "2023-08-25T13:15:19.826418Z"
    }
   }
  },
  {
   "cell_type": "code",
   "execution_count": 4,
   "outputs": [],
   "source": [
    "sample_details = []\n",
    "normal_data_count = -1\n",
    "anomalous_data_count = -1"
   ],
   "metadata": {
    "collapsed": false,
    "ExecuteTime": {
     "start_time": "2023-08-24T22:24:28.284540Z",
     "end_time": "2023-08-24T22:24:28.318864Z"
    }
   }
  },
  {
   "cell_type": "code",
   "execution_count": 18,
   "outputs": [
    {
     "data": {
      "text/plain": "91.70021567217829"
     },
     "execution_count": 18,
     "metadata": {},
     "output_type": "execute_result"
    }
   ],
   "source": [
    "np.mean(values)"
   ],
   "metadata": {
    "collapsed": false,
    "ExecuteTime": {
     "start_time": "2023-08-25T13:20:08.338568Z",
     "end_time": "2023-08-25T13:20:08.417144Z"
    }
   }
  },
  {
   "cell_type": "code",
   "execution_count": 5,
   "outputs": [],
   "source": [
    "for x in domain:\n",
    "    pipeline = define_pipeline(x)\n",
    "    result = client.aggregate(pipeline)\n",
    "    for doc in result:\n",
    "        if normal_data_count == -1:\n",
    "            normal_data_count = doc['normal_data_count']\n",
    "        if anomalous_data_count == -1:\n",
    "            anomalous_data_count = doc['anomalous_data_count']\n",
    "        try:\n",
    "            doc['correct_recognized_normal_data']\n",
    "        except KeyError:\n",
    "            doc['correct_recognized_normal_data'] = 0\n",
    "        try:\n",
    "            doc['correct_recognized_anomalous_data']\n",
    "        except KeyError:\n",
    "            doc['correct_recognized_anomalous_data'] = 0\n",
    "        sample_details.append({\n",
    "            'factor': x,\n",
    "            'correct_recognized_normal_data': doc['correct_recognized_normal_data'],\n",
    "            'correct_recognized_anomalous_data': doc['correct_recognized_anomalous_data']\n",
    "        })"
   ],
   "metadata": {
    "collapsed": false,
    "ExecuteTime": {
     "start_time": "2023-08-24T22:24:28.810305Z",
     "end_time": "2023-08-24T22:25:38.695925Z"
    }
   }
  },
  {
   "cell_type": "code",
   "execution_count": 6,
   "outputs": [],
   "source": [
    "correct_recognized_normal_samples_ratio = []\n",
    "correct_recognized_anomalous_samples_ratio = []\n",
    "\n",
    "for sample in sample_details:\n",
    "    correct_recognized_normal_samples_ratio.append(sample['correct_recognized_normal_data'] / normal_data_count)\n",
    "    correct_recognized_anomalous_samples_ratio.append(sample['correct_recognized_anomalous_data'] / anomalous_data_count)"
   ],
   "metadata": {
    "collapsed": false,
    "ExecuteTime": {
     "start_time": "2023-08-24T22:32:36.018911Z",
     "end_time": "2023-08-24T22:32:36.050204Z"
    }
   }
  },
  {
   "cell_type": "code",
   "execution_count": 7,
   "outputs": [
    {
     "data": {
      "text/plain": "<Figure size 640x480 with 1 Axes>",
      "image/png": "[encoded data removed]"
     },
     "metadata": {},
     "output_type": "display_data"
    }
   ],
   "source": [
    "import matplotlib.pyplot as plt\n",
    "\n",
    "plt.plot(domain, correct_recognized_normal_samples_ratio, label='Próbki normalne')\n",
    "plt.plot(domain, correct_recognized_anomalous_samples_ratio, label='Anomalie')\n",
    "plt.xlabel(\"Wartość podziału\")\n",
    "plt.ylabel(\"Procent poprawnie rozpoznanych próbek\")\n",
    "plt.ylim(-0.19, 1.05)\n",
    "plt.legend(loc='lower left')\n",
    "plt.show()"
   ],
   "metadata": {
    "collapsed": false,
    "ExecuteTime": {
     "start_time": "2023-08-24T22:32:36.427137Z",
     "end_time": "2023-08-24T22:32:37.915719Z"
    }
   }
  },
  {
   "cell_type": "code",
   "execution_count": 8,
   "outputs": [
    {
     "data": {
      "text/plain": "<Figure size 640x480 with 1 Axes>",
      "image/png": "[encoded data removed]"
     },
     "metadata": {},
     "output_type": "display_data"
    }
   ],
   "source": [
    "plt.plot(domain, correct_recognized_normal_samples_ratio, 'g')\n",
    "plt.plot(domain, correct_recognized_anomalous_samples_ratio, 'y')\n",
    "plt.xlim(0.4, 0.5)\n",
    "plt.show()"
   ],
   "metadata": {
    "collapsed": false,
    "ExecuteTime": {
     "start_time": "2023-08-24T22:32:42.400848Z",
     "end_time": "2023-08-24T22:32:42.574673Z"
    }
   }
  },
  {
   "cell_type": "code",
   "execution_count": 9,
   "outputs": [
    {
     "name": "stdout",
     "output_type": "stream",
     "text": [
      "45\n",
      "0.4891560497827528\n"
     ]
    }
   ],
   "source": [
    "min_difference = float('inf')\n",
    "for i in range(0, len(correct_recognized_normal_samples_ratio)):\n",
    "    # Compute the absolute difference between the current pair of values\n",
    "    difference = abs(correct_recognized_normal_samples_ratio[i] - correct_recognized_anomalous_samples_ratio[i])\n",
    "\n",
    "    # Check if this pair is closer than the previously found closest pair\n",
    "    if difference < min_difference:\n",
    "        # If so, update the closest pair and the minimum difference\n",
    "        closest_pair = (correct_recognized_normal_samples_ratio[i], correct_recognized_anomalous_samples_ratio[i])\n",
    "        index = i\n",
    "        min_difference = difference\n",
    "\n",
    "print(index)\n",
    "print(np.mean(closest_pair))"
   ],
   "metadata": {
    "collapsed": false,
    "ExecuteTime": {
     "start_time": "2023-08-24T22:32:44.400358Z",
     "end_time": "2023-08-24T22:32:44.434769Z"
    }
   }
  },
  {
   "cell_type": "code",
   "execution_count": 10,
   "outputs": [
    {
     "name": "stdout",
     "output_type": "stream",
     "text": [
      "{'factor': 0.47000000000000003, 'correct_recognized_normal_data': 349, 'correct_recognized_anomalous_data': 130}\n"
     ]
    }
   ],
   "source": [
    "print(sample_details[47])"
   ],
   "metadata": {
    "collapsed": false,
    "ExecuteTime": {
     "start_time": "2023-08-24T22:32:47.052386Z",
     "end_time": "2023-08-24T22:32:47.083162Z"
    }
   }
  },
  {
   "cell_type": "code",
   "execution_count": 23,
   "outputs": [
    {
     "name": "stdout",
     "output_type": "stream",
     "text": [
      "0.4629762760603882\n"
     ]
    }
   ],
   "source": [
    "print((527+117)/1391)"
   ],
   "metadata": {
    "collapsed": false,
    "ExecuteTime": {
     "start_time": "2023-08-22T15:15:47.578758Z",
     "end_time": "2023-08-22T15:15:47.591756Z"
    }
   }
  },
  {
   "cell_type": "code",
   "execution_count": 14,
   "outputs": [
    {
     "name": "stdout",
     "output_type": "stream",
     "text": [
      "1141\n"
     ]
    }
   ],
   "source": [
    "print(normal_data_count)"
   ],
   "metadata": {
    "collapsed": false,
    "ExecuteTime": {
     "start_time": "2023-08-23T23:27:33.699438Z",
     "end_time": "2023-08-23T23:27:33.730687Z"
    }
   }
  },
  {
   "cell_type": "code",
   "execution_count": 15,
   "outputs": [
    {
     "name": "stdout",
     "output_type": "stream",
     "text": [
      "250\n"
     ]
    }
   ],
   "source": [
    "print(anomalous_data_count)"
   ],
   "metadata": {
    "collapsed": false,
    "ExecuteTime": {
     "start_time": "2023-08-23T23:28:26.909749Z",
     "end_time": "2023-08-23T23:28:26.941002Z"
    }
   }
  },
  {
   "cell_type": "code",
   "execution_count": null,
   "outputs": [],
   "source": [
    "durations = client.find({'duration': 1, '_id': 0})\n",
    "values = []\n",
    "for doc in durations:\n",
    "    print(doc['duration'])\n",
    "    values.append(doc['duration'])"
   ],
   "metadata": {
    "collapsed": false
   }
  },
  {
   "cell_type": "code",
   "execution_count": null,
   "outputs": [],
   "source": [
    "import numpy as np\n",
    "import matplotlib.pyplot as plt\n",
    "\n",
    "# Sample dataset (replace this with your own data)\n",
    "data = [np.random.randint(0, 141) for _ in range(1400)]\n",
    "\n",
    "# Define the bin edges: [0, 10, 20, ..., 140]\n",
    "bins = list(range(0, 151, 10))  # 151 is the end to ensure 140 is included\n",
    "\n",
    "# 1. Aggregate the data using histogram\n",
    "hist, edges = np.histogram(values, bins=bins)\n",
    "\n",
    "# 2. Plot the data\n",
    "plt.figure(figsize=(15, 6))\n",
    "plt.bar(edges[:-1], hist, width=9)  # Use width=9 to create a small gap between bars for clarity\n",
    "\n",
    "plt.xlabel(\"Czas przetwarzania\")\n",
    "plt.ylabel(\"Liczba obserwacji\")\n",
    "plt.title('ANN')\n",
    "plt.xticks(edges, labels=[f\"{int(edge)}-{int(edge+9)}\" for edge in edges[:-1]])\n",
    "\n",
    "plt.grid(axis='y')\n",
    "plt.tight_layout()\n",
    "plt.show()"
   ],
   "metadata": {
    "collapsed": false
   }
  }
 ],
 "metadata": {
  "kernelspec": {
   "display_name": "Python 3",
   "language": "python",
   "name": "python3"
  },
  "language_info": {
   "codemirror_mode": {
    "name": "ipython",
    "version": 2
   },
   "file_extension": ".py",
   "mimetype": "text/x-python",
   "name": "python",
   "nbconvert_exporter": "python",
   "pygments_lexer": "ipython2",
   "version": "2.7.6"
  }
 },
 "nbformat": 4,
 "nbformat_minor": 0
}
