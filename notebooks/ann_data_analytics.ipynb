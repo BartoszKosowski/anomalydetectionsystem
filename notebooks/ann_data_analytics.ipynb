{
 "cells": [
  {
   "cell_type": "code",
   "execution_count": null,
   "metadata": {
    "collapsed": true,
    "ExecuteTime": {
     "start_time": "2023-08-26T21:39:10.196880Z",
     "end_time": "2023-08-26T21:39:10.272029Z"
    }
   },
   "outputs": [],
   "source": [
    "import numpy as np\n",
    "\n",
    "from kafka_infra.MongoDbClient import MongoDbClient\n",
    "\n",
    "client = MongoDbClient(\"ann_recognized_samples_signal\")"
   ]
  },
  {
   "cell_type": "code",
   "execution_count": null,
   "outputs": [],
   "source": [
    "domain = np.arange(0,1,0.01)"
   ],
   "metadata": {
    "collapsed": false,
    "ExecuteTime": {
     "start_time": "2023-08-26T21:39:10.580556Z",
     "end_time": "2023-08-26T21:39:10.594926Z"
    }
   }
  },
  {
   "cell_type": "markdown",
   "source": [
    "Create MongoDb query that returns details about model results"
   ],
   "metadata": {
    "collapsed": false
   }
  },
  {
   "cell_type": "code",
   "execution_count": null,
   "outputs": [],
   "source": [
    "def define_pipeline(x):\n",
    "    pipeline = [\n",
    "        {\n",
    "            \"$lookup\": {\n",
    "                \"from\": \"generated_samples_signal\",\n",
    "                \"localField\": \"sample_id\",\n",
    "                \"foreignField\": \"sample_id\",\n",
    "                \"as\": \"generated_sample_data\"\n",
    "            }\n",
    "        },\n",
    "        {\n",
    "            \"$unwind\": \"$generated_sample_data\"\n",
    "        },\n",
    "        {\n",
    "            \"$project\": {\n",
    "                \"sample_id\": 1,\n",
    "                \"predicted_value\": 1,\n",
    "                \"duration\": 1,\n",
    "                \"normal_data\": \"$generated_sample_data.normal_data\"\n",
    "            }\n",
    "        },\n",
    "        {\n",
    "            \"$facet\": {\n",
    "                \"normal_data_total\": [\n",
    "                    {\n",
    "                        \"$match\": {\n",
    "                            \"normal_data\": 1\n",
    "                        }\n",
    "                    },\n",
    "                    {\n",
    "                        \"$count\": \"count\"\n",
    "                    }\n",
    "                ],\n",
    "                \"normal_data_recognized\": [\n",
    "                    {\n",
    "                        \"$match\": {\n",
    "                            \"normal_data\": 1,\n",
    "                            \"predicted_value\": { \"$gte\": x }\n",
    "                        }\n",
    "                    },\n",
    "                    {\n",
    "                        \"$count\": \"count\"\n",
    "                    }\n",
    "                ],\n",
    "                \"anomalous_data_total\": [\n",
    "                    {\n",
    "                        \"$match\": {\n",
    "                            \"normal_data\": 0\n",
    "                        }\n",
    "                    },\n",
    "                    {\n",
    "                        \"$count\": \"count\"\n",
    "                    }\n",
    "                ],\n",
    "                \"anomalous_data_recognized\": [\n",
    "                    {\n",
    "                        \"$match\": {\n",
    "                            \"normal_data\": 0,\n",
    "                            \"predicted_value\": { \"$lt\": x }\n",
    "                        }\n",
    "                    },\n",
    "                    {\n",
    "                        \"$count\": \"count\"\n",
    "                    }\n",
    "                ]\n",
    "            }\n",
    "        },\n",
    "        {\n",
    "            \"$project\": {\n",
    "                \"normal_data_count\": { \"$arrayElemAt\": [\"$normal_data_total.count\", 0] },\n",
    "                \"correct_recognized_normal_data\": { \"$arrayElemAt\": [\"$normal_data_recognized.count\", 0] },\n",
    "                \"anomalous_data_count\": { \"$arrayElemAt\": [\"$anomalous_data_total.count\", 0] },\n",
    "                \"correct_recognized_anomalous_data\": { \"$arrayElemAt\": [\"$anomalous_data_recognized.count\", 0] }\n",
    "            }\n",
    "        }\n",
    "    ]\n",
    "\n",
    "    return pipeline"
   ],
   "metadata": {
    "collapsed": false,
    "ExecuteTime": {
     "start_time": "2023-08-26T21:39:10.955027Z",
     "end_time": "2023-08-26T21:39:10.970691Z"
    }
   }
  },
  {
   "cell_type": "code",
   "execution_count": null,
   "outputs": [],
   "source": [
    "sample_details = []\n",
    "normal_data_count = -1\n",
    "anomalous_data_count = -1"
   ],
   "metadata": {
    "collapsed": false,
    "ExecuteTime": {
     "start_time": "2023-08-26T21:39:11.390483Z",
     "end_time": "2023-08-26T21:39:11.417688Z"
    }
   }
  },
  {
   "cell_type": "code",
   "execution_count": null,
   "outputs": [],
   "source": [
    "for x in domain:\n",
    "    pipeline = define_pipeline(x)\n",
    "    result = client.aggregate(pipeline)\n",
    "    for doc in result:\n",
    "        if normal_data_count == -1:\n",
    "            normal_data_count = doc['normal_data_count']\n",
    "        if anomalous_data_count == -1:\n",
    "            anomalous_data_count = doc['anomalous_data_count']\n",
    "        try:\n",
    "            doc['correct_recognized_normal_data']\n",
    "        except KeyError:\n",
    "            doc['correct_recognized_normal_data'] = 0\n",
    "        try:\n",
    "            doc['correct_recognized_anomalous_data']\n",
    "        except KeyError:\n",
    "            doc['correct_recognized_anomalous_data'] = 0\n",
    "        sample_details.append({\n",
    "            'factor': x,\n",
    "            'correct_recognized_normal_data': doc['correct_recognized_normal_data'],\n",
    "            'correct_recognized_anomalous_data': doc['correct_recognized_anomalous_data']\n",
    "        })"
   ],
   "metadata": {
    "collapsed": false,
    "ExecuteTime": {
     "start_time": "2023-08-26T21:39:11.722871Z",
     "end_time": "2023-08-26T21:39:31.526876Z"
    }
   }
  },
  {
   "cell_type": "code",
   "execution_count": null,
   "outputs": [],
   "source": [
    "correct_recognized_normal_samples_ratio = []\n",
    "correct_recognized_anomalous_samples_ratio = []\n",
    "\n",
    "for sample in sample_details:\n",
    "    correct_recognized_normal_samples_ratio.append(sample['correct_recognized_normal_data'] / normal_data_count)\n",
    "    correct_recognized_anomalous_samples_ratio.append(sample['correct_recognized_anomalous_data'] / anomalous_data_count)"
   ],
   "metadata": {
    "collapsed": false,
    "ExecuteTime": {
     "start_time": "2023-08-26T21:39:38.925150Z",
     "end_time": "2023-08-26T21:39:38.965414Z"
    }
   }
  },
  {
   "cell_type": "code",
   "execution_count": null,
   "outputs": [],
   "source": [
    "import matplotlib.pyplot as plt\n",
    "\n",
    "plt.plot(domain, correct_recognized_normal_samples_ratio, label='Próbki normalne')\n",
    "plt.plot(domain, correct_recognized_anomalous_samples_ratio, label='Anomalie')\n",
    "plt.xlabel(\"Wartość podziału\")\n",
    "plt.ylabel(\"Procent poprawnie rozpoznanych próbek\")\n",
    "plt.ylim(-0.19, 1.05)\n",
    "plt.legend(loc='lower left')\n",
    "plt.show()"
   ],
   "metadata": {
    "collapsed": false,
    "ExecuteTime": {
     "start_time": "2023-08-26T21:39:39.748977Z",
     "end_time": "2023-08-26T21:39:41.163493Z"
    }
   }
  },
  {
   "cell_type": "code",
   "execution_count": null,
   "outputs": [],
   "source": [
    "plt.plot(domain, correct_recognized_normal_samples_ratio, 'g')\n",
    "plt.plot(domain, correct_recognized_anomalous_samples_ratio, 'y')\n",
    "plt.xlim(0.4, 0.5)\n",
    "plt.show()"
   ],
   "metadata": {
    "collapsed": false,
    "ExecuteTime": {
     "start_time": "2023-08-26T22:04:50.775663Z",
     "end_time": "2023-08-26T22:04:50.963413Z"
    }
   }
  },
  {
   "cell_type": "markdown",
   "source": [
    "Find the value that model has the best accuracy"
   ],
   "metadata": {
    "collapsed": false
   }
  },
  {
   "cell_type": "code",
   "execution_count": null,
   "outputs": [],
   "source": [
    "min_difference = float('inf')\n",
    "for i in range(0, len(correct_recognized_normal_samples_ratio)):\n",
    "\n",
    "    difference = abs(correct_recognized_normal_samples_ratio[i] - correct_recognized_anomalous_samples_ratio[i])\n",
    "\n",
    "\n",
    "    if difference < min_difference:\n",
    "\n",
    "        closest_pair = (correct_recognized_normal_samples_ratio[i], correct_recognized_anomalous_samples_ratio[i])\n",
    "        index = i\n",
    "        min_difference = difference\n",
    "\n",
    "print(index)\n",
    "print(np.mean(closest_pair))"
   ],
   "metadata": {
    "collapsed": false,
    "ExecuteTime": {
     "start_time": "2023-08-26T22:04:51.644900Z",
     "end_time": "2023-08-26T22:04:51.660918Z"
    }
   }
  },
  {
   "cell_type": "code",
   "execution_count": null,
   "outputs": [],
   "source": [
    "print(sample_details[0])"
   ],
   "metadata": {
    "collapsed": false,
    "ExecuteTime": {
     "start_time": "2023-08-26T22:04:58.687615Z",
     "end_time": "2023-08-26T22:04:58.703280Z"
    }
   }
  },
  {
   "cell_type": "code",
   "execution_count": null,
   "outputs": [],
   "source": [
    "print((527+117)/1391)"
   ],
   "metadata": {
    "collapsed": false,
    "ExecuteTime": {
     "start_time": "2023-08-22T15:15:47.578758Z",
     "end_time": "2023-08-22T15:15:47.591756Z"
    }
   }
  },
  {
   "cell_type": "code",
   "execution_count": null,
   "outputs": [],
   "source": [
    "print(normal_data_count)"
   ],
   "metadata": {
    "collapsed": false
   }
  },
  {
   "cell_type": "code",
   "execution_count": null,
   "outputs": [],
   "source": [
    "print(anomalous_data_count)"
   ],
   "metadata": {
    "collapsed": false
   }
  },
  {
   "cell_type": "code",
   "execution_count": null,
   "outputs": [],
   "source": [
    "durations = client.find({'duration': 1, '_id': 0})\n",
    "values = []\n",
    "for doc in durations:\n",
    "    print(doc['duration'])\n",
    "    values.append(doc['duration'])"
   ],
   "metadata": {
    "collapsed": false,
    "ExecuteTime": {
     "start_time": "2023-08-27T00:15:48.575392Z",
     "end_time": "2023-08-27T00:15:49.684206Z"
    }
   }
  },
  {
   "cell_type": "code",
   "execution_count": null,
   "outputs": [],
   "source": [
    "import numpy as np\n",
    "import matplotlib.pyplot as plt\n",
    "\n",
    "data = [np.random.randint(0, 141) for _ in range(1400)]\n",
    "\n",
    "bins = list(range(0, 151, 10))\n",
    "\n",
    "hist, edges = np.histogram(values, bins=bins)\n",
    "\n",
    "plt.figure(figsize=(15, 6))\n",
    "plt.bar(edges[:-1], hist, width=9)\n",
    "\n",
    "plt.xlabel(\"Czas przetwarzania\")\n",
    "plt.ylabel(\"Liczba obserwacji\")\n",
    "plt.title('ANN')\n",
    "plt.xticks(edges, labels=[f\"{int(edge)}-{int(edge+9)}\" for edge in edges[:-1]])\n",
    "\n",
    "plt.grid(axis='y')\n",
    "plt.tight_layout()\n",
    "plt.show()"
   ],
   "metadata": {
    "collapsed": false
   }
  },
  {
   "cell_type": "code",
   "execution_count": null,
   "outputs": [],
   "source": [
    "np.mean(values)"
   ],
   "metadata": {
    "collapsed": false,
    "ExecuteTime": {
     "start_time": "2023-08-27T00:31:43.088249Z",
     "end_time": "2023-08-27T00:31:43.138513Z"
    }
   }
  },
  {
   "cell_type": "code",
   "execution_count": null,
   "outputs": [],
   "source": [],
   "metadata": {
    "collapsed": false
   }
  }
 ],
 "metadata": {
  "kernelspec": {
   "display_name": "Python 3",
   "language": "python",
   "name": "python3"
  },
  "language_info": {
   "codemirror_mode": {
    "name": "ipython",
    "version": 2
   },
   "file_extension": ".py",
   "mimetype": "text/x-python",
   "name": "python",
   "nbconvert_exporter": "python",
   "pygments_lexer": "ipython2",
   "version": "2.7.6"
  }
 },
 "nbformat": 4,
 "nbformat_minor": 0
}
