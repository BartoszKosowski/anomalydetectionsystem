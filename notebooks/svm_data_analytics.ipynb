{
 "cells": [
  {
   "cell_type": "code",
   "execution_count": null,
   "metadata": {
    "collapsed": true,
    "ExecuteTime": {
     "start_time": "2023-08-26T21:39:37.559664Z",
     "end_time": "2023-08-26T21:39:38.071321Z"
    }
   },
   "outputs": [],
   "source": [
    "import numpy as np\n",
    "\n",
    "from kafka_infra.MongoDbClient import MongoDbClient\n",
    "\n",
    "client = MongoDbClient(\"svm_recognized_samples_signal\")"
   ]
  },
  {
   "cell_type": "code",
   "execution_count": null,
   "outputs": [],
   "source": [
    "domain = np.arange(-1, 1, 0.02)"
   ],
   "metadata": {
    "collapsed": false,
    "ExecuteTime": {
     "start_time": "2023-08-26T21:39:38.071321Z",
     "end_time": "2023-08-26T21:39:38.086634Z"
    }
   }
  },
  {
   "cell_type": "markdown",
   "source": [
    "Create MongoDb query that returns details about model results"
   ],
   "metadata": {
    "collapsed": false
   }
  },
  {
   "cell_type": "code",
   "execution_count": null,
   "outputs": [],
   "source": [
    "def define_pipeline(x):\n",
    "    pipeline = [\n",
    "        {\n",
    "            \"$lookup\": {\n",
    "                \"from\": \"generated_samples_signal\",\n",
    "                \"localField\": \"sample_id\",\n",
    "                \"foreignField\": \"sample_id\",\n",
    "                \"as\": \"generated_sample_data\"\n",
    "            }\n",
    "        },\n",
    "        {\n",
    "            \"$unwind\": \"$generated_sample_data\"\n",
    "        },\n",
    "        {\n",
    "            \"$project\": {\n",
    "                \"sample_id\": 1,\n",
    "                \"predicted_value\": 1,\n",
    "                \"duration\": 1,\n",
    "                \"normal_data\": \"$generated_sample_data.normal_data\"\n",
    "            }\n",
    "        },\n",
    "        {\n",
    "            \"$facet\": {\n",
    "                \"normal_data_total\": [\n",
    "                    {\n",
    "                        \"$match\": {\n",
    "                            \"normal_data\": 1\n",
    "                        }\n",
    "                    },\n",
    "                    {\n",
    "                        \"$count\": \"count\"\n",
    "                    }\n",
    "                ],\n",
    "                \"normal_data_recognized\": [\n",
    "                    {\n",
    "                        \"$match\": {\n",
    "                            \"normal_data\": 1,\n",
    "                            \"predicted_value\": { \"$gte\": x }\n",
    "                        }\n",
    "                    },\n",
    "                    {\n",
    "                        \"$count\": \"count\"\n",
    "                    }\n",
    "                ],\n",
    "                \"anomalous_data_total\": [\n",
    "                    {\n",
    "                        \"$match\": {\n",
    "                            \"normal_data\": 0\n",
    "                        }\n",
    "                    },\n",
    "                    {\n",
    "                        \"$count\": \"count\"\n",
    "                    }\n",
    "                ],\n",
    "                \"anomalous_data_recognized\": [\n",
    "                    {\n",
    "                        \"$match\": {\n",
    "                            \"normal_data\": 0,\n",
    "                            \"predicted_value\": { \"$lt\": x }\n",
    "                        }\n",
    "                    },\n",
    "                    {\n",
    "                        \"$count\": \"count\"\n",
    "                    }\n",
    "                ]\n",
    "            }\n",
    "        },\n",
    "        {\n",
    "            \"$project\": {\n",
    "                \"normal_data_count\": { \"$arrayElemAt\": [\"$normal_data_total.count\", 0] },\n",
    "                \"correct_recognized_normal_data\": { \"$arrayElemAt\": [\"$normal_data_recognized.count\", 0] },\n",
    "                \"anomalous_data_count\": { \"$arrayElemAt\": [\"$anomalous_data_total.count\", 0] },\n",
    "                \"correct_recognized_anomalous_data\": { \"$arrayElemAt\": [\"$anomalous_data_recognized.count\", 0] }\n",
    "            }\n",
    "        }\n",
    "    ]\n",
    "\n",
    "    return pipeline\n"
   ],
   "metadata": {
    "collapsed": false,
    "ExecuteTime": {
     "start_time": "2023-08-26T21:39:38.086634Z",
     "end_time": "2023-08-26T21:39:38.102572Z"
    }
   }
  },
  {
   "cell_type": "code",
   "execution_count": null,
   "outputs": [],
   "source": [
    "sample_details = []\n",
    "normal_data_count = -1\n",
    "anomalous_data_count = -1"
   ],
   "metadata": {
    "collapsed": false,
    "ExecuteTime": {
     "start_time": "2023-08-26T21:39:38.102572Z",
     "end_time": "2023-08-26T21:39:38.133115Z"
    }
   }
  },
  {
   "cell_type": "code",
   "execution_count": null,
   "outputs": [],
   "source": [
    "for x in domain:\n",
    "    pipeline = define_pipeline(x)\n",
    "    result = client.aggregate(pipeline)\n",
    "    for doc in result:\n",
    "        if normal_data_count == -1:\n",
    "            normal_data_count = doc['normal_data_count']\n",
    "        if anomalous_data_count == -1:\n",
    "            anomalous_data_count = doc['anomalous_data_count']\n",
    "        try:\n",
    "            doc['correct_recognized_normal_data']\n",
    "        except KeyError:\n",
    "            doc['correct_recognized_normal_data'] = 0\n",
    "        try:\n",
    "            doc['correct_recognized_anomalous_data']\n",
    "        except KeyError:\n",
    "            doc['correct_recognized_anomalous_data'] = 0\n",
    "        sample_details.append({\n",
    "            'factor': x,\n",
    "            'correct_recognized_normal_data': doc['correct_recognized_normal_data'],\n",
    "            'correct_recognized_anomalous_data': doc['correct_recognized_anomalous_data']\n",
    "        })"
   ],
   "metadata": {
    "collapsed": false,
    "ExecuteTime": {
     "start_time": "2023-08-26T21:39:38.133115Z",
     "end_time": "2023-08-26T21:39:58.100176Z"
    }
   }
  },
  {
   "cell_type": "code",
   "execution_count": null,
   "outputs": [],
   "source": [
    "correct_recognized_normal_samples_ratio = []\n",
    "correct_recognized_anomalous_samples_ratio = []\n",
    "\n",
    "for sample in sample_details:\n",
    "    correct_recognized_normal_samples_ratio.append(sample['correct_recognized_normal_data']/normal_data_count)\n",
    "    correct_recognized_anomalous_samples_ratio.append(sample['correct_recognized_anomalous_data']/anomalous_data_count)"
   ],
   "metadata": {
    "collapsed": false,
    "ExecuteTime": {
     "start_time": "2023-08-26T21:40:36.333501Z",
     "end_time": "2023-08-26T21:40:36.357702Z"
    }
   }
  },
  {
   "cell_type": "code",
   "execution_count": null,
   "outputs": [],
   "source": [
    "import matplotlib.pyplot as plt\n",
    "\n",
    "plt.plot(domain, correct_recognized_normal_samples_ratio, label='Próbki normalne')\n",
    "plt.plot(domain, correct_recognized_anomalous_samples_ratio, label='Anomalie')\n",
    "plt.xlabel(\"Wartość podziału\")\n",
    "plt.ylabel(\"Procent poprawnie rozpoznanych próbek\")\n",
    "plt.ylim(-0.19, 1.05)\n",
    "plt.legend(loc='lower left')\n",
    "plt.show()"
   ],
   "metadata": {
    "collapsed": false,
    "ExecuteTime": {
     "start_time": "2023-08-26T21:40:36.809253Z",
     "end_time": "2023-08-26T21:40:37.521506Z"
    }
   }
  },
  {
   "cell_type": "markdown",
   "source": [
    "Find the value that model has the best accuracy"
   ],
   "metadata": {
    "collapsed": false
   }
  },
  {
   "cell_type": "code",
   "execution_count": null,
   "outputs": [],
   "source": [
    "min_difference = float('inf')\n",
    "for i in range(0, len(correct_recognized_normal_samples_ratio)):\n",
    "    difference = abs(correct_recognized_normal_samples_ratio[i] - correct_recognized_anomalous_samples_ratio[i])\n",
    "\n",
    "    if difference < min_difference:\n",
    "        closest_pair = (correct_recognized_normal_samples_ratio[i], correct_recognized_anomalous_samples_ratio[i])\n",
    "        index = i\n",
    "        min_difference = difference\n",
    "\n",
    "print(index)\n",
    "print(np.mean(closest_pair))"
   ],
   "metadata": {
    "collapsed": false,
    "ExecuteTime": {
     "start_time": "2023-08-26T21:45:03.848364Z",
     "end_time": "2023-08-26T21:45:03.856110Z"
    }
   }
  },
  {
   "cell_type": "code",
   "execution_count": null,
   "outputs": [],
   "source": [
    "print(sample_details[0])"
   ],
   "metadata": {
    "collapsed": false,
    "ExecuteTime": {
     "start_time": "2023-08-26T23:33:28.395826Z",
     "end_time": "2023-08-26T23:33:28.411751Z"
    }
   }
  },
  {
   "cell_type": "code",
   "execution_count": null,
   "outputs": [],
   "source": [
    "print(normal_data_count)\n",
    "print(anomalous_data_count)\n",
    "\n",
    "print(normal_data_count - 633)\n",
    "print(anomalous_data_count - 135)"
   ],
   "metadata": {
    "collapsed": false,
    "ExecuteTime": {
     "start_time": "2023-08-26T21:45:05.109477Z",
     "end_time": "2023-08-26T21:45:05.140727Z"
    }
   }
  },
  {
   "cell_type": "code",
   "execution_count": null,
   "outputs": [],
   "source": [
    "durations = client.find({'duration': 1, '_id': 0})\n",
    "values = []\n",
    "for doc in durations:\n",
    "    print(doc['duration'])\n",
    "    values.append(doc['duration'])"
   ],
   "metadata": {
    "collapsed": false,
    "ExecuteTime": {
     "start_time": "2023-08-27T00:15:28.654003Z",
     "end_time": "2023-08-27T00:15:29.582652Z"
    }
   }
  },
  {
   "cell_type": "code",
   "execution_count": null,
   "outputs": [],
   "source": [
    "import numpy as np\n",
    "import matplotlib.pyplot as plt\n",
    "\n",
    "data = [np.random.randint(0, 141) for _ in range(1400)]\n",
    "\n",
    "bins = list(range(0, 151, 10))\n",
    "\n",
    "hist, edges = np.histogram(values, bins=bins)\n",
    "\n",
    "plt.figure(figsize=(15, 6))\n",
    "plt.bar(edges[:-1], hist, width=9)\n",
    "\n",
    "plt.xlabel(\"Czas przetwarzania\")\n",
    "plt.ylabel(\"Liczba obserwacji\")\n",
    "plt.title('SVM')\n",
    "plt.xticks(edges, labels=[f\"{int(edge)}-{int(edge + 9)}\" for edge in edges[:-1]])\n",
    "\n",
    "plt.grid(axis='y')\n",
    "plt.tight_layout()\n",
    "plt.show()"
   ],
   "metadata": {
    "collapsed": false
   }
  },
  {
   "cell_type": "code",
   "execution_count": null,
   "outputs": [],
   "source": [
    "np.mean(values)"
   ],
   "metadata": {
    "collapsed": false,
    "ExecuteTime": {
     "start_time": "2023-08-27T00:31:17.278265Z",
     "end_time": "2023-08-27T00:31:17.348169Z"
    }
   }
  },
  {
   "cell_type": "code",
   "execution_count": null,
   "outputs": [],
   "source": [],
   "metadata": {
    "collapsed": false
   }
  }
 ],
 "metadata": {
  "kernelspec": {
   "display_name": "Python 3",
   "language": "python",
   "name": "python3"
  },
  "language_info": {
   "codemirror_mode": {
    "name": "ipython",
    "version": 2
   },
   "file_extension": ".py",
   "mimetype": "text/x-python",
   "name": "python",
   "nbconvert_exporter": "python",
   "pygments_lexer": "ipython2",
   "version": "2.7.6"
  }
 },
 "nbformat": 4,
 "nbformat_minor": 0
}
