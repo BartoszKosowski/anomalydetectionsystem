{
 "cells": [
  {
   "cell_type": "markdown",
   "source": [
    "# Anomaly detection ANN\n",
    "That model based on an Artificial Neural Network (ANN) and using k-fold cross-validation for model fitting"
   ],
   "metadata": {
    "collapsed": false
   }
  },
  {
   "cell_type": "markdown",
   "source": [
    "## Imports"
   ],
   "metadata": {
    "collapsed": false
   }
  },
  {
   "cell_type": "code",
   "execution_count": 1,
   "metadata": {
    "collapsed": true,
    "ExecuteTime": {
     "start_time": "2023-07-14T09:02:22.345275Z",
     "end_time": "2023-07-14T09:02:48.731756Z"
    }
   },
   "outputs": [],
   "source": [
    "import tensorflow as tf\n",
    "import pandas as pd\n",
    "from sklearn.model_selection import train_test_split\n",
    "import numpy as np\n",
    "\n",
    "tf.config.run_functions_eagerly(True)\n",
    "tf.data.experimental.enable_debug_mode()"
   ]
  },
  {
   "cell_type": "markdown",
   "source": [
    "## Data preparation"
   ],
   "metadata": {
    "collapsed": false
   }
  },
  {
   "cell_type": "code",
   "execution_count": 2,
   "outputs": [
    {
     "data": {
      "text/plain": "array([0.38258117, 0.34857435, 0.29507594, 0.2360118 , 0.2055155 ,\n       0.22841321, 0.31389438, 0.34302886, 0.36067474, 0.36985195,\n       0.40503097, 0.38827506, 0.39750014, 0.41477571, 0.42704026,\n       0.43425207, 0.43815893, 0.44374103, 0.44351909, 0.44594805,\n       0.45034206, 0.45298267, 0.45071413, 0.45236969, 0.44929805,\n       0.45240395, 0.45156713, 0.45199604, 0.44638053, 0.44333211,\n       0.44028045, 0.44643116, 0.44133146, 0.43481545, 0.43392774,\n       0.43273256, 0.43288096, 0.43452733, 0.43671602, 0.43852113,\n       0.44137622, 0.44369191, 0.45070433, 0.45913821, 0.45981626,\n       0.46429308, 0.45783317, 0.46210159, 0.46010114, 0.46217812,\n       0.46326499, 0.47080483, 0.4709795 , 0.46228708, 0.46262172,\n       0.46095022, 0.45744584, 0.45504108, 0.4518767 , 0.46504835,\n       0.46807957, 0.47459668, 0.47899268, 0.48987364, 0.48922653,\n       0.49118877, 0.48572023, 0.49434313, 0.5118916 , 0.52040492,\n       0.51698048, 0.52387298, 0.52351826, 0.52580741, 0.5221796 ,\n       0.5321338 , 0.53161289, 0.53397054, 0.53395525, 0.54028434,\n       0.5458414 , 0.54127612, 0.53405872, 0.52143353, 0.51881242,\n       0.52337499, 0.51883539, 0.5260868 , 0.5271544 , 0.52047761,\n       0.51311089, 0.50641824, 0.50791343, 0.50359736, 0.50531034,\n       0.50274582, 0.51320056, 0.51619577, 0.52830597, 0.5276224 ,\n       0.52522129, 0.51675656, 0.51920074, 0.52363046, 0.5259753 ,\n       0.52323802, 0.52488824, 0.52591289, 0.51184342, 0.51229724,\n       0.51063845, 0.496076  , 0.48556075, 0.47820403, 0.47254435,\n       0.47511177, 0.47922549, 0.4760397 , 0.46883769, 0.46665357,\n       0.47437153, 0.47441604, 0.47057515, 0.47962764, 0.48647727,\n       0.50311127, 0.51065698, 0.50322387, 0.50412028, 0.50345293,\n       0.496011  , 0.49821797, 0.49866004, 0.52127964, 0.41494113,\n       0.47593528, 0.43815108, 0.3708996 , 0.4501724 , 0.53254329])"
     },
     "execution_count": 2,
     "metadata": {},
     "output_type": "execute_result"
    }
   ],
   "source": [
    "dataframe = pd.read_csv('ecg_dataset.csv', header=None)\n",
    "raw_data = dataframe.values\n",
    "\n",
    "labels = raw_data[:, -1]\n",
    "data = raw_data[:, 0:-1]\n",
    "\n",
    "train_data, test_data, train_labels, test_labels = train_test_split(data, labels, test_size=0.2, random_state=50)\n",
    "\n",
    "train_data[0]"
   ],
   "metadata": {
    "collapsed": false,
    "ExecuteTime": {
     "start_time": "2023-07-14T09:02:53.761343Z",
     "end_time": "2023-07-14T09:02:55.311298Z"
    }
   }
  },
  {
   "cell_type": "markdown",
   "source": [
    "## ANN model"
   ],
   "metadata": {
    "collapsed": false
   }
  },
  {
   "cell_type": "code",
   "execution_count": 3,
   "outputs": [],
   "source": [
    "def build_model():\n",
    "    model = tf.keras.models.Sequential()\n",
    "    model.add(tf.keras.layers.Dense(32, activation='relu', input_shape=(train_data.shape[1],)))\n",
    "    model.add(tf.keras.layers.Dense(16, activation='relu'))\n",
    "    model.add(tf.keras.layers.Dense(1, activation='sigmoid'))\n",
    "    model.compile(\n",
    "        optimizer=tf.keras.optimizers.Adam(learning_rate=0.0002, beta_1=0.5),\n",
    "        loss=tf.keras.losses.mse,\n",
    "        metrics=[tf.keras.metrics.binary_accuracy]\n",
    "    )\n",
    "    return model\n"
   ],
   "metadata": {
    "collapsed": false,
    "ExecuteTime": {
     "start_time": "2023-07-14T09:03:01.389249Z",
     "end_time": "2023-07-14T09:03:01.415470Z"
    }
   }
  },
  {
   "cell_type": "markdown",
   "source": [
    "## Model training\n",
    "Below there is a process of fitting model using k-fold cross-validation"
   ],
   "metadata": {
    "collapsed": false
   }
  },
  {
   "cell_type": "code",
   "execution_count": 4,
   "outputs": [
    {
     "name": "stdout",
     "output_type": "stream",
     "text": [
      "processing fold #0\n",
      "Epoch 1/5\n",
      "75/75 [==============================] - 5s 59ms/step - loss: 0.1762 - binary_accuracy: 0.7486\n",
      "Epoch 2/5\n",
      "75/75 [==============================] - 5s 63ms/step - loss: 0.1661 - binary_accuracy: 0.7486\n",
      "Epoch 3/5\n",
      "75/75 [==============================] - 5s 64ms/step - loss: 0.1538 - binary_accuracy: 0.7486\n",
      "Epoch 4/5\n",
      "75/75 [==============================] - 4s 56ms/step - loss: 0.1359 - binary_accuracy: 0.7486\n",
      "Epoch 5/5\n",
      "75/75 [==============================] - 5s 63ms/step - loss: 0.1120 - binary_accuracy: 0.7842\n",
      "processing fold #1\n",
      "Epoch 1/5\n",
      "75/75 [==============================] - 4s 56ms/step - loss: 0.1803 - binary_accuracy: 0.7448\n",
      "Epoch 2/5\n",
      "75/75 [==============================] - 4s 60ms/step - loss: 0.1641 - binary_accuracy: 0.7448\n",
      "Epoch 3/5\n",
      "75/75 [==============================] - 4s 56ms/step - loss: 0.1400 - binary_accuracy: 0.7448\n",
      "Epoch 4/5\n",
      "75/75 [==============================] - 5s 60ms/step - loss: 0.1060 - binary_accuracy: 0.8338\n",
      "Epoch 5/5\n",
      "75/75 [==============================] - 4s 57ms/step - loss: 0.0729 - binary_accuracy: 0.9946\n",
      "processing fold #2\n",
      "Epoch 1/5\n",
      "75/75 [==============================] - 4s 58ms/step - loss: 0.1935 - binary_accuracy: 0.7248\n",
      "Epoch 2/5\n",
      "75/75 [==============================] - 4s 58ms/step - loss: 0.1694 - binary_accuracy: 0.7503\n",
      "Epoch 3/5\n",
      "75/75 [==============================] - 5s 62ms/step - loss: 0.1549 - binary_accuracy: 0.7503\n",
      "Epoch 4/5\n",
      "75/75 [==============================] - 4s 55ms/step - loss: 0.1326 - binary_accuracy: 0.7511\n",
      "Epoch 5/5\n",
      "75/75 [==============================] - 4s 57ms/step - loss: 0.1020 - binary_accuracy: 0.8618\n",
      "processing fold #3\n",
      "Epoch 1/5\n",
      "75/75 [==============================] - 4s 58ms/step - loss: 0.1830 - binary_accuracy: 0.7469\n",
      "Epoch 2/5\n",
      "75/75 [==============================] - 4s 59ms/step - loss: 0.1694 - binary_accuracy: 0.7469\n",
      "Epoch 3/5\n",
      "75/75 [==============================] - 5s 60ms/step - loss: 0.1504 - binary_accuracy: 0.7469\n",
      "Epoch 4/5\n",
      "75/75 [==============================] - 4s 59ms/step - loss: 0.1199 - binary_accuracy: 0.7648\n",
      "Epoch 5/5\n",
      "75/75 [==============================] - 4s 60ms/step - loss: 0.0835 - binary_accuracy: 0.9719\n"
     ]
    }
   ],
   "source": [
    "k = int(4)\n",
    "num_val_samples = len(train_data) // k\n",
    "epochs = 5\n",
    "all_scores = []\n",
    "\n",
    "for i in range(k):\n",
    "    print(f'processing fold #{i}')\n",
    "    val_data = train_data[i * num_val_samples: (i+1) * num_val_samples]\n",
    "    val_labels = train_labels[i*num_val_samples: (i+1) * num_val_samples]\n",
    "\n",
    "    partial_train_data = np.concatenate(\n",
    "        [train_data[:i * num_val_samples],\n",
    "         train_data[(i+1) * num_val_samples:]],\n",
    "        axis=0\n",
    "    )\n",
    "\n",
    "    partial_train_labels = np.concatenate(\n",
    "        [train_labels[:i * num_val_samples],\n",
    "        train_labels[(i+1) * num_val_samples:]],\n",
    "        axis=0\n",
    "    )\n",
    "\n",
    "    model = build_model()\n",
    "\n",
    "    model.fit(\n",
    "        partial_train_data,\n",
    "        partial_train_labels,\n",
    "        epochs=epochs,\n",
    "        batch_size=128\n",
    "    )\n",
    "\n",
    "    val_mse, val_mae = model.evaluate(val_data, val_labels, verbose=0)\n",
    "    all_scores.append(val_mae)"
   ],
   "metadata": {
    "collapsed": false,
    "ExecuteTime": {
     "start_time": "2023-07-14T09:03:03.080508Z",
     "end_time": "2023-07-14T09:04:43.110248Z"
    }
   }
  },
  {
   "cell_type": "markdown",
   "source": [
    "## Model saving"
   ],
   "metadata": {
    "collapsed": false
   }
  },
  {
   "cell_type": "code",
   "execution_count": 27,
   "outputs": [
    {
     "name": "stdout",
     "output_type": "stream",
     "text": [
      "INFO:tensorflow:Assets written to: models/detectors/ann\\assets\n"
     ]
    },
    {
     "name": "stderr",
     "output_type": "stream",
     "text": [
      "INFO:tensorflow:Assets written to: models/detectors/ann\\assets\n"
     ]
    }
   ],
   "source": [
    "model.save('models/detectors/ann')"
   ],
   "metadata": {
    "collapsed": false,
    "ExecuteTime": {
     "start_time": "2023-07-14T09:53:40.009579Z",
     "end_time": "2023-07-14T09:53:41.372233Z"
    }
   }
  },
  {
   "cell_type": "markdown",
   "source": [
    "## Model evaluating and testing"
   ],
   "metadata": {
    "collapsed": false
   }
  },
  {
   "cell_type": "code",
   "execution_count": 7,
   "outputs": [
    {
     "name": "stdout",
     "output_type": "stream",
     "text": [
      "100/100 [==============================] - 3s 26ms/step - loss: 0.0651 - binary_accuracy: 1.0000\n"
     ]
    }
   ],
   "source": [
    "test_mse_score, test_mae_score = model.evaluate(test_data, test_labels)"
   ],
   "metadata": {
    "collapsed": false,
    "ExecuteTime": {
     "start_time": "2023-07-14T09:05:21.912430Z",
     "end_time": "2023-07-14T09:05:24.681094Z"
    }
   }
  },
  {
   "cell_type": "code",
   "execution_count": 24,
   "outputs": [],
   "source": [
    "test_sample = test_data[0:1]"
   ],
   "metadata": {
    "collapsed": false,
    "ExecuteTime": {
     "start_time": "2023-07-14T09:51:31.632216Z",
     "end_time": "2023-07-14T09:51:31.711700Z"
    }
   }
  },
  {
   "cell_type": "code",
   "execution_count": 26,
   "outputs": [
    {
     "name": "stdout",
     "output_type": "stream",
     "text": [
      "1/1 [==============================] - 0s 89ms/step\n"
     ]
    }
   ],
   "source": [
    "x = model.predict(test_sample)"
   ],
   "metadata": {
    "collapsed": false,
    "ExecuteTime": {
     "start_time": "2023-07-14T09:52:13.071368Z",
     "end_time": "2023-07-14T09:52:13.444314Z"
    }
   }
  }
 ],
 "metadata": {
  "kernelspec": {
   "display_name": "Python 3",
   "language": "python",
   "name": "python3"
  },
  "language_info": {
   "codemirror_mode": {
    "name": "ipython",
    "version": 2
   },
   "file_extension": ".py",
   "mimetype": "text/x-python",
   "name": "python",
   "nbconvert_exporter": "python",
   "pygments_lexer": "ipython2",
   "version": "2.7.6"
  }
 },
 "nbformat": 4,
 "nbformat_minor": 0
}
